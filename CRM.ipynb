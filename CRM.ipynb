{
  "nbformat": 4,
  "nbformat_minor": 0,
  "metadata": {
    "colab": {
      "provenance": []
    },
    "kernelspec": {
      "name": "python3",
      "display_name": "Python 3"
    },
    "language_info": {
      "name": "python"
    }
  },
  "cells": [
    {
      "cell_type": "markdown",
      "source": [
        "# Steps for Data Preparation\n",
        "\n",
        "**Data Loading and Initial Inspection:** The notebook starts by loading the loan data from a CSV file into a NumPy array.\n",
        "\n",
        "It then checks for the presence of missing values (NaNs) and calculates some basic statistics (min, mean, max) for the numerical columns.\n",
        "\n",
        "\n",
        "**Separating Data Types:** The columns are separated into those containing numerical data and those containing string data based on the presence of NaNs in the initial mean calculation.\n",
        "\n",
        "\n",
        "**Re-importing Data by Type:** The data is re-imported from the CSV, this time specifying the data type (str for string columns and float for numerical columns with a filling value for missing data).\n",
        "\n",
        "**Header Separation:** The header row is loaded separately and split into headers for the string and numerical data based on the column separation done earlier.\n",
        "\n",
        "**Checkpoint:** A function is defined and used to create checkpoints, saving the current state of the headers and data arrays.\n",
        "\n",
        "**Manipulating String Columns:**\n",
        "The 'issue_d' column is cleaned by removing '-15' and then converted to numerical month representations (0-12).\n",
        "\n",
        "The 'loan_status' column is categorized into 'good' (1) and 'bad' (0) based on a predefined list of bad statuses.\n",
        "\n",
        "The 'term' column is cleaned by removing ' months' and any empty strings are replaced with '60', then the column is converted to integers.\n",
        "\n",
        "The 'sub_grade' column is filled for missing values based on the 'grade' and a new category 'H1' is introduced for remaining missing values. The original 'grade' column is then removed as 'sub_grade' provides a more granular detail.\n",
        "\n",
        "The 'sub_grade' values are converted into numerical representations using a dictionary mapping.\n",
        "\n",
        "The 'verification_status' column is categorized into 'verified' (1) and 'not verified' or empty strings (0).\n",
        "\n",
        "The 'url' column is cleaned to extract the loan ID, and then removed as it is redundant with the 'id' column in the numerical data.\n",
        "\n",
        "The 'addr_state' column is categorized into geographical regions and empty strings are assigned to category '0'.\n",
        "\n",
        "Converting String Data to Numeric: The entire string data array is converted to the integer data type.\n",
        "\n",
        "Checkpoint (Strings): A checkpoint is created for the processed string data.\n",
        "\n",
        "**Manipulating Numeric Columns:**\n",
        "The filling values introduced during the initial import of numerical data are replaced with the minimum or maximum values of their respective columns, depending on the column.\n",
        "\n",
        "\n",
        "**Currency Conversion:**\n",
        "The exchange rates between EUR and USD are loaded from a separate CSV file.\n",
        "\n",
        "Exchange rates are assigned to each row based on the 'issue_date' (month). Missing issue dates are assigned the mean exchange rate.\n",
        "\n",
        "The exchange rates are added as a new column to the numerical data.\n",
        "\n",
        "New columns are created for loan amounts, funded amounts, installments, and total payments converted from USD to EUR.\n",
        "\n",
        "The headers are updated to reflect the new currency columns.\n",
        "\n",
        "The numerical data is reordered to group the USD and EUR currency columns together.\n",
        "\n",
        "**Interest Rate Adjustment:** The 'int_rate' column is divided by 100 to represent the interest rate as a decimal.\n",
        "\n",
        "**Checkpoint (Numeric):** A checkpoint is created for the processed numerical data.\n",
        "\n",
        "**Creating a Complete Dataset:** The processed numerical and string data arrays are combined horizontally.\n",
        "\n",
        "**Sorting Data:** The combined dataset is sorted based on the 'id' column.\n",
        "\n",
        "**Final Data Preparation:** The header row is added back to the top of the combined dataset.\n",
        "\n",
        "**Saving Processed Data:** The final processed dataset is saved to a new CSV file named \"loan-data-processed.csv\"."
      ],
      "metadata": {
        "id": "Cqe8ZFp9T_vX"
      }
    },
    {
      "cell_type": "code",
      "execution_count": 1,
      "metadata": {
        "id": "Kv0N5FJG5GPp"
      },
      "outputs": [],
      "source": [
        "import numpy as np"
      ]
    },
    {
      "cell_type": "markdown",
      "source": [
        "//for easy view - improve the way we see the data: stop numpy from numpy using scientific notation and number of words increases"
      ],
      "metadata": {
        "id": "eaNSI6BN5MBZ"
      }
    },
    {
      "cell_type": "code",
      "source": [
        "np.set_printoptions(suppress=True, linewidth=100, precision=2)"
      ],
      "metadata": {
        "id": "W8AdCK5e5In3"
      },
      "execution_count": 2,
      "outputs": []
    },
    {
      "cell_type": "code",
      "source": [
        "raw_data_np = np.genfromtxt(\"/content/loan-data.csv\", delimiter=';', skip_header=1, autostrip=True, encoding='latin1')\n",
        "raw_data_np"
      ],
      "metadata": {
        "colab": {
          "base_uri": "https://localhost:8080/"
        },
        "id": "3NN9_UBI5og4",
        "outputId": "c7a771ab-9588-4501-a8a1-480c0a17627d"
      },
      "execution_count": 6,
      "outputs": [
        {
          "output_type": "execute_result",
          "data": {
            "text/plain": [
              "array([[48010226.  ,         nan,    35000.  , ...,         nan,         nan,     9452.96],\n",
              "       [57693261.  ,         nan,    30000.  , ...,         nan,         nan,     4679.7 ],\n",
              "       [59432726.  ,         nan,    15000.  , ...,         nan,         nan,     1969.83],\n",
              "       ...,\n",
              "       [50415990.  ,         nan,    10000.  , ...,         nan,         nan,     2185.64],\n",
              "       [46154151.  ,         nan,         nan, ...,         nan,         nan,     3199.4 ],\n",
              "       [66055249.  ,         nan,    10000.  , ...,         nan,         nan,      301.9 ]])"
            ]
          },
          "metadata": {},
          "execution_count": 6
        }
      ]
    },
    {
      "cell_type": "markdown",
      "source": [
        "Checking for incomplete Data"
      ],
      "metadata": {
        "id": "kEqmZi1T6P9Q"
      }
    },
    {
      "cell_type": "code",
      "source": [
        "np.isnan(raw_data_np).sum()"
      ],
      "metadata": {
        "colab": {
          "base_uri": "https://localhost:8080/"
        },
        "id": "gIpeDqr56Xet",
        "outputId": "10cbff64-d8f8-42ae-dddc-d981eb2a3ea7"
      },
      "execution_count": 7,
      "outputs": [
        {
          "output_type": "execute_result",
          "data": {
            "text/plain": [
              "np.int64(88005)"
            ]
          },
          "metadata": {},
          "execution_count": 7
        }
      ]
    },
    {
      "cell_type": "code",
      "source": [
        "temp_fill = np.nanmax(raw_data_np) + 1\n",
        "temp_mean = np.nanmean(raw_data_np, axis = 0)"
      ],
      "metadata": {
        "colab": {
          "base_uri": "https://localhost:8080/"
        },
        "id": "rf9S96yr6cqz",
        "outputId": "669d8674-469b-492b-9f62-7f8c3bf42ab5"
      },
      "execution_count": 8,
      "outputs": [
        {
          "output_type": "stream",
          "name": "stderr",
          "text": [
            "/tmp/ipython-input-1910991242.py:2: RuntimeWarning: Mean of empty slice\n",
            "  temp_mean = np.nanmean(raw_data_np, axis = 0)\n"
          ]
        }
      ]
    },
    {
      "cell_type": "markdown",
      "source": [
        "/tmp/ipython-input-1910991242.py:2: RuntimeWarning: Mean of empty slice\n",
        "  temp_mean = np.nanmean(raw_data_np, axis = 0) = we may have entire column with nan"
      ],
      "metadata": {
        "id": "OOa7crzz6yIv"
      }
    },
    {
      "cell_type": "code",
      "source": [
        "temp_mean"
      ],
      "metadata": {
        "colab": {
          "base_uri": "https://localhost:8080/"
        },
        "id": "qarqs26T64Ob",
        "outputId": "f94fecf8-36b4-4538-fa7d-7e6c6eb68c54"
      },
      "execution_count": 9,
      "outputs": [
        {
          "output_type": "execute_result",
          "data": {
            "text/plain": [
              "array([54015809.19,         nan,    15273.46,         nan,    15311.04,         nan,       16.62,\n",
              "            440.92,         nan,         nan,         nan,         nan,         nan,     3143.85])"
            ]
          },
          "metadata": {},
          "execution_count": 9
        }
      ]
    },
    {
      "cell_type": "markdown",
      "source": [
        "8 columns have nan means we might have strings or nan in that columns"
      ],
      "metadata": {
        "id": "ulK1d6Sc67Ue"
      }
    },
    {
      "cell_type": "markdown",
      "source": [
        "extract min and max of each numerical column"
      ],
      "metadata": {
        "id": "JcDH1Lnp7CJk"
      }
    },
    {
      "cell_type": "code",
      "source": [
        "temp_stats = np.array([np.nanmin(raw_data_np, axis = 0), temp_mean, np.nanmax(raw_data_np, axis = 0)])"
      ],
      "metadata": {
        "colab": {
          "base_uri": "https://localhost:8080/"
        },
        "id": "-rva_DqA66m8",
        "outputId": "31137ee7-5b2a-43a8-9cbd-021337b4d86d"
      },
      "execution_count": 10,
      "outputs": [
        {
          "output_type": "stream",
          "name": "stderr",
          "text": [
            "/tmp/ipython-input-1993055947.py:1: RuntimeWarning: All-NaN slice encountered\n",
            "  temp_stats = np.array([np.nanmin(raw_data_np, axis = 0), temp_mean, np.nanmax(raw_data_np, axis = 0)])\n"
          ]
        }
      ]
    },
    {
      "cell_type": "code",
      "source": [
        "temp_stats"
      ],
      "metadata": {
        "colab": {
          "base_uri": "https://localhost:8080/"
        },
        "id": "_-oJtEBT7S55",
        "outputId": "24489eac-dc8c-499f-eea8-9c9a50d2383e"
      },
      "execution_count": 11,
      "outputs": [
        {
          "output_type": "execute_result",
          "data": {
            "text/plain": [
              "array([[  373332.  ,         nan,     1000.  ,         nan,     1000.  ,         nan,        6.  ,\n",
              "              31.42,         nan,         nan,         nan,         nan,         nan,        0.  ],\n",
              "       [54015809.19,         nan,    15273.46,         nan,    15311.04,         nan,       16.62,\n",
              "             440.92,         nan,         nan,         nan,         nan,         nan,     3143.85],\n",
              "       [68616519.  ,         nan,    35000.  ,         nan,    35000.  ,         nan,       28.99,\n",
              "            1372.97,         nan,         nan,         nan,         nan,         nan,    41913.62]])"
            ]
          },
          "metadata": {},
          "execution_count": 11
        }
      ]
    },
    {
      "cell_type": "markdown",
      "source": [
        "Sliptting up data set into numerical and String data"
      ],
      "metadata": {
        "id": "auM1kN9C7bv3"
      }
    },
    {
      "cell_type": "code",
      "source": [
        "column_strings = np.argwhere(np.isnan(temp_mean)).squeeze()\n",
        "column_strings"
      ],
      "metadata": {
        "colab": {
          "base_uri": "https://localhost:8080/"
        },
        "id": "Ry8fkv1B7fwE",
        "outputId": "5cd4fb19-3c67-4893-9d97-5d877e5a3c62"
      },
      "execution_count": 13,
      "outputs": [
        {
          "output_type": "execute_result",
          "data": {
            "text/plain": [
              "array([ 1,  3,  5,  8,  9, 10, 11, 12])"
            ]
          },
          "metadata": {},
          "execution_count": 13
        }
      ]
    },
    {
      "cell_type": "code",
      "source": [
        "column_numeric = np.argwhere(np.isnan(temp_mean) == False).squeeze()\n",
        "column_numeric"
      ],
      "metadata": {
        "colab": {
          "base_uri": "https://localhost:8080/"
        },
        "id": "U4_fBEEU7u07",
        "outputId": "511e3db2-8371-4028-bfbf-862efdb307f6"
      },
      "execution_count": 15,
      "outputs": [
        {
          "output_type": "execute_result",
          "data": {
            "text/plain": [
              "array([ 0,  2,  4,  6,  7, 13])"
            ]
          },
          "metadata": {},
          "execution_count": 15
        }
      ]
    },
    {
      "cell_type": "markdown",
      "source": [
        "Reimporting the dataset"
      ],
      "metadata": {
        "id": "qOxcKKJi77m3"
      }
    },
    {
      "cell_type": "code",
      "source": [
        "loan_data_string = np.genfromtxt(\"/content/loan-data.csv\", delimiter=';', skip_header=1, autostrip=True, encoding='latin1', usecols=column_strings, dtype=str)\n",
        "loan_data_string"
      ],
      "metadata": {
        "colab": {
          "base_uri": "https://localhost:8080/"
        },
        "id": "n6j6aJDy79kS",
        "outputId": "7f0f06ed-d663-42b7-ec3e-2403408b2d4d"
      },
      "execution_count": 16,
      "outputs": [
        {
          "output_type": "execute_result",
          "data": {
            "text/plain": [
              "array([['May-15', 'Current', '36 months', ..., 'Verified',\n",
              "        'https://www.lendingclub.com/browse/loanDetail.action?loan_id=48010226', 'CA'],\n",
              "       ['', 'Current', '36 months', ..., 'Source Verified',\n",
              "        'https://www.lendingclub.com/browse/loanDetail.action?loan_id=57693261', 'NY'],\n",
              "       ['Sep-15', 'Current', '36 months', ..., 'Verified',\n",
              "        'https://www.lendingclub.com/browse/loanDetail.action?loan_id=59432726', 'PA'],\n",
              "       ...,\n",
              "       ['Jun-15', 'Current', '36 months', ..., 'Source Verified',\n",
              "        'https://www.lendingclub.com/browse/loanDetail.action?loan_id=50415990', 'CA'],\n",
              "       ['Apr-15', 'Current', '36 months', ..., 'Source Verified',\n",
              "        'https://www.lendingclub.com/browse/loanDetail.action?loan_id=46154151', 'OH'],\n",
              "       ['Dec-15', 'Current', '36 months', ..., '',\n",
              "        'https://www.lendingclub.com/browse/loanDetail.action?loan_id=66055249', 'IL']],\n",
              "      dtype='<U69')"
            ]
          },
          "metadata": {},
          "execution_count": 16
        }
      ]
    },
    {
      "cell_type": "code",
      "source": [
        "loan_data_numeric = np.genfromtxt(\"/content/loan-data.csv\", delimiter=';', skip_header=1, autostrip=True, encoding='latin1', usecols=column_numeric, filling_values=temp_fill)\n",
        "loan_data_numeric"
      ],
      "metadata": {
        "colab": {
          "base_uri": "https://localhost:8080/"
        },
        "outputId": "62836ed1-8547-486a-e248-5871f3cdd140",
        "id": "FonTpjiQ8O7q"
      },
      "execution_count": 17,
      "outputs": [
        {
          "output_type": "execute_result",
          "data": {
            "text/plain": [
              "array([[48010226.  ,    35000.  ,    35000.  ,       13.33,     1184.86,     9452.96],\n",
              "       [57693261.  ,    30000.  ,    30000.  , 68616520.  ,      938.57,     4679.7 ],\n",
              "       [59432726.  ,    15000.  ,    15000.  , 68616520.  ,      494.86,     1969.83],\n",
              "       ...,\n",
              "       [50415990.  ,    10000.  ,    10000.  , 68616520.  , 68616520.  ,     2185.64],\n",
              "       [46154151.  , 68616520.  ,    10000.  ,       16.55,      354.3 ,     3199.4 ],\n",
              "       [66055249.  ,    10000.  ,    10000.  , 68616520.  ,      309.97,      301.9 ]])"
            ]
          },
          "metadata": {},
          "execution_count": 17
        }
      ]
    },
    {
      "cell_type": "markdown",
      "source": [
        "The Names of the columns"
      ],
      "metadata": {
        "id": "ljI_Zr-i8ejB"
      }
    },
    {
      "cell_type": "code",
      "source": [
        "headers = np.genfromtxt(\"/content/loan-data.csv\", delimiter=';', autostrip=True, encoding='latin1', skip_footer=raw_data_np.shape[0], dtype=str)\n",
        "headers"
      ],
      "metadata": {
        "colab": {
          "base_uri": "https://localhost:8080/"
        },
        "id": "2SYWhn9h8hcc",
        "outputId": "60d9c02e-4b47-4c7a-9bc9-607957c76ea6"
      },
      "execution_count": 19,
      "outputs": [
        {
          "output_type": "execute_result",
          "data": {
            "text/plain": [
              "array(['id', 'issue_d', 'loan_amnt', 'loan_status', 'funded_amnt', 'term', 'int_rate',\n",
              "       'installment', 'grade', 'sub_grade', 'verification_status', 'url', 'addr_state',\n",
              "       'total_pymnt'], dtype='<U19')"
            ]
          },
          "metadata": {},
          "execution_count": 19
        }
      ]
    },
    {
      "cell_type": "code",
      "source": [
        "header_strings, header_numeric = headers[column_strings], headers[column_numeric]"
      ],
      "metadata": {
        "id": "vFDtNEvZ8yHo"
      },
      "execution_count": 20,
      "outputs": []
    },
    {
      "cell_type": "code",
      "source": [
        "header_numeric"
      ],
      "metadata": {
        "colab": {
          "base_uri": "https://localhost:8080/"
        },
        "id": "WQykcEAe84Mv",
        "outputId": "3d306e0f-6656-4b81-ffd4-4d424ae50680"
      },
      "execution_count": 21,
      "outputs": [
        {
          "output_type": "execute_result",
          "data": {
            "text/plain": [
              "array(['id', 'loan_amnt', 'funded_amnt', 'int_rate', 'installment', 'total_pymnt'], dtype='<U19')"
            ]
          },
          "metadata": {},
          "execution_count": 21
        }
      ]
    },
    {
      "cell_type": "code",
      "source": [
        "header_strings"
      ],
      "metadata": {
        "colab": {
          "base_uri": "https://localhost:8080/"
        },
        "id": "4XfIrwTy851Z",
        "outputId": "6681e0e7-6b31-4e47-e854-6219b6a61093"
      },
      "execution_count": 22,
      "outputs": [
        {
          "output_type": "execute_result",
          "data": {
            "text/plain": [
              "array(['issue_d', 'loan_status', 'term', 'grade', 'sub_grade', 'verification_status', 'url',\n",
              "       'addr_state'], dtype='<U19')"
            ]
          },
          "metadata": {},
          "execution_count": 22
        }
      ]
    },
    {
      "cell_type": "markdown",
      "source": [
        "Creating checkpoints : places throughout the code whee we store a copy of our dataset. we want to avoid losing data"
      ],
      "metadata": {
        "id": "tQdGxzE49CqK"
      }
    },
    {
      "cell_type": "code",
      "source": [
        "def checkpoint(file_name, checkpoint_header, checkpoint_data):\n",
        "  np.savez(file_name, header = checkpoint_header, data = checkpoint_data)\n",
        "  checkpoint_variable = np.load(file_name + \".npz\")\n",
        "  return(checkpoint_variable)"
      ],
      "metadata": {
        "id": "udTJxY9c9KtH"
      },
      "execution_count": 23,
      "outputs": []
    },
    {
      "cell_type": "code",
      "source": [
        "checkpoint_test = checkpoint(\"checkpoint-test\", header_strings, loan_data_string)"
      ],
      "metadata": {
        "id": "Nu72ZMVj9b0t"
      },
      "execution_count": 24,
      "outputs": []
    },
    {
      "cell_type": "code",
      "source": [
        "checkpoint_test"
      ],
      "metadata": {
        "colab": {
          "base_uri": "https://localhost:8080/"
        },
        "id": "nN-roS029bkf",
        "outputId": "652a85c5-9860-42ff-9908-3bf7f2d338e3"
      },
      "execution_count": 25,
      "outputs": [
        {
          "output_type": "execute_result",
          "data": {
            "text/plain": [
              "NpzFile 'checkpoint-test.npz' with keys: header, data"
            ]
          },
          "metadata": {},
          "execution_count": 25
        }
      ]
    },
    {
      "cell_type": "code",
      "source": [
        "checkpoint_test['header']"
      ],
      "metadata": {
        "colab": {
          "base_uri": "https://localhost:8080/"
        },
        "id": "8TaaHPvH9bL-",
        "outputId": "087d862f-32f0-4210-d015-14d6804cd301"
      },
      "execution_count": 26,
      "outputs": [
        {
          "output_type": "execute_result",
          "data": {
            "text/plain": [
              "array(['issue_d', 'loan_status', 'term', 'grade', 'sub_grade', 'verification_status', 'url',\n",
              "       'addr_state'], dtype='<U19')"
            ]
          },
          "metadata": {},
          "execution_count": 26
        }
      ]
    },
    {
      "cell_type": "code",
      "source": [
        "checkpoint_test['data']"
      ],
      "metadata": {
        "colab": {
          "base_uri": "https://localhost:8080/"
        },
        "id": "FV-XSaOb9n71",
        "outputId": "4762fdfa-1289-4249-aa4e-bd615cd057b8"
      },
      "execution_count": 27,
      "outputs": [
        {
          "output_type": "execute_result",
          "data": {
            "text/plain": [
              "array([['May-15', 'Current', '36 months', ..., 'Verified',\n",
              "        'https://www.lendingclub.com/browse/loanDetail.action?loan_id=48010226', 'CA'],\n",
              "       ['', 'Current', '36 months', ..., 'Source Verified',\n",
              "        'https://www.lendingclub.com/browse/loanDetail.action?loan_id=57693261', 'NY'],\n",
              "       ['Sep-15', 'Current', '36 months', ..., 'Verified',\n",
              "        'https://www.lendingclub.com/browse/loanDetail.action?loan_id=59432726', 'PA'],\n",
              "       ...,\n",
              "       ['Jun-15', 'Current', '36 months', ..., 'Source Verified',\n",
              "        'https://www.lendingclub.com/browse/loanDetail.action?loan_id=50415990', 'CA'],\n",
              "       ['Apr-15', 'Current', '36 months', ..., 'Source Verified',\n",
              "        'https://www.lendingclub.com/browse/loanDetail.action?loan_id=46154151', 'OH'],\n",
              "       ['Dec-15', 'Current', '36 months', ..., '',\n",
              "        'https://www.lendingclub.com/browse/loanDetail.action?loan_id=66055249', 'IL']],\n",
              "      dtype='<U69')"
            ]
          },
          "metadata": {},
          "execution_count": 27
        }
      ]
    },
    {
      "cell_type": "code",
      "source": [
        "np.array_equal(checkpoint_test['data'], loan_data_string)"
      ],
      "metadata": {
        "colab": {
          "base_uri": "https://localhost:8080/"
        },
        "id": "wPX9wEha9ra_",
        "outputId": "1435bf4f-f056-4b38-9916-d00f5e185e5d"
      },
      "execution_count": 28,
      "outputs": [
        {
          "output_type": "execute_result",
          "data": {
            "text/plain": [
              "True"
            ]
          },
          "metadata": {},
          "execution_count": 28
        }
      ]
    },
    {
      "cell_type": "markdown",
      "source": [
        "Manipulating String Columns"
      ],
      "metadata": {
        "id": "T8L0y76o9w2W"
      }
    },
    {
      "cell_type": "code",
      "source": [
        "header_strings"
      ],
      "metadata": {
        "colab": {
          "base_uri": "https://localhost:8080/"
        },
        "id": "7-1wYq7b9z96",
        "outputId": "99b61cc0-574f-45a6-d71e-583ed8f1753a"
      },
      "execution_count": 29,
      "outputs": [
        {
          "output_type": "execute_result",
          "data": {
            "text/plain": [
              "array(['issue_d', 'loan_status', 'term', 'grade', 'sub_grade', 'verification_status', 'url',\n",
              "       'addr_state'], dtype='<U19')"
            ]
          },
          "metadata": {},
          "execution_count": 29
        }
      ]
    },
    {
      "cell_type": "code",
      "source": [
        "header_strings[0] = \"issue_date\""
      ],
      "metadata": {
        "id": "JnOmQq8z95o2"
      },
      "execution_count": 30,
      "outputs": []
    },
    {
      "cell_type": "code",
      "source": [
        "header_strings"
      ],
      "metadata": {
        "colab": {
          "base_uri": "https://localhost:8080/"
        },
        "id": "dMrbykRF984W",
        "outputId": "ca0adc1f-90d1-4de5-f9eb-e576f409a0bc"
      },
      "execution_count": 31,
      "outputs": [
        {
          "output_type": "execute_result",
          "data": {
            "text/plain": [
              "array(['issue_date', 'loan_status', 'term', 'grade', 'sub_grade', 'verification_status', 'url',\n",
              "       'addr_state'], dtype='<U19')"
            ]
          },
          "metadata": {},
          "execution_count": 31
        }
      ]
    },
    {
      "cell_type": "code",
      "source": [
        "loan_data_string"
      ],
      "metadata": {
        "colab": {
          "base_uri": "https://localhost:8080/"
        },
        "id": "RSAfzdvQ9-dh",
        "outputId": "8c8844eb-0210-498d-d20e-cfd4cfcf8b3f"
      },
      "execution_count": 32,
      "outputs": [
        {
          "output_type": "execute_result",
          "data": {
            "text/plain": [
              "array([['May-15', 'Current', '36 months', ..., 'Verified',\n",
              "        'https://www.lendingclub.com/browse/loanDetail.action?loan_id=48010226', 'CA'],\n",
              "       ['', 'Current', '36 months', ..., 'Source Verified',\n",
              "        'https://www.lendingclub.com/browse/loanDetail.action?loan_id=57693261', 'NY'],\n",
              "       ['Sep-15', 'Current', '36 months', ..., 'Verified',\n",
              "        'https://www.lendingclub.com/browse/loanDetail.action?loan_id=59432726', 'PA'],\n",
              "       ...,\n",
              "       ['Jun-15', 'Current', '36 months', ..., 'Source Verified',\n",
              "        'https://www.lendingclub.com/browse/loanDetail.action?loan_id=50415990', 'CA'],\n",
              "       ['Apr-15', 'Current', '36 months', ..., 'Source Verified',\n",
              "        'https://www.lendingclub.com/browse/loanDetail.action?loan_id=46154151', 'OH'],\n",
              "       ['Dec-15', 'Current', '36 months', ..., '',\n",
              "        'https://www.lendingclub.com/browse/loanDetail.action?loan_id=66055249', 'IL']],\n",
              "      dtype='<U69')"
            ]
          },
          "metadata": {},
          "execution_count": 32
        }
      ]
    },
    {
      "cell_type": "markdown",
      "source": [
        "Issue Date"
      ],
      "metadata": {
        "id": "pXg_Z7n7-Ajh"
      }
    },
    {
      "cell_type": "code",
      "source": [
        "np.unique(loan_data_string[:, 0])"
      ],
      "metadata": {
        "colab": {
          "base_uri": "https://localhost:8080/"
        },
        "id": "BS-wBXX2-CBw",
        "outputId": "fb6e2d38-6221-4cbd-c5ab-57a4962236d8"
      },
      "execution_count": 34,
      "outputs": [
        {
          "output_type": "execute_result",
          "data": {
            "text/plain": [
              "array(['', 'Apr-15', 'Aug-15', 'Dec-15', 'Feb-15', 'Jan-15', 'Jul-15', 'Jun-15', 'Mar-15',\n",
              "       'May-15', 'Nov-15', 'Oct-15', 'Sep-15'], dtype='<U69')"
            ]
          },
          "metadata": {},
          "execution_count": 34
        }
      ]
    },
    {
      "cell_type": "code",
      "source": [
        "# striping the issue date becuase the year is 2015\n",
        "loan_data_string[:, 0]=np.chararray.strip(loan_data_string[:,0], \"-15\")"
      ],
      "metadata": {
        "colab": {
          "base_uri": "https://localhost:8080/"
        },
        "id": "43tVG8eb-NmK",
        "outputId": "c19e839c-3771-4c29-8839-6fc64e1d40f0"
      },
      "execution_count": 35,
      "outputs": [
        {
          "output_type": "stream",
          "name": "stderr",
          "text": [
            "/tmp/ipython-input-3468262217.py:2: DeprecationWarning: `np.chararray` is deprecated and will be removed from the main namespace in the future. Use an array with a string or bytes dtype instead.\n",
            "  loan_data_string[:, 0]=np.chararray.strip(loan_data_string[:,0], \"-15\")\n"
          ]
        }
      ]
    },
    {
      "cell_type": "code",
      "source": [
        "np.unique(loan_data_string[:, 0])"
      ],
      "metadata": {
        "colab": {
          "base_uri": "https://localhost:8080/"
        },
        "id": "GB39XAnI-ekU",
        "outputId": "a70ac640-97fd-421a-ab15-53e898047cd6"
      },
      "execution_count": 36,
      "outputs": [
        {
          "output_type": "execute_result",
          "data": {
            "text/plain": [
              "array(['', 'Apr', 'Aug', 'Dec', 'Feb', 'Jan', 'Jul', 'Jun', 'Mar', 'May', 'Nov', 'Oct', 'Sep'],\n",
              "      dtype='<U69')"
            ]
          },
          "metadata": {},
          "execution_count": 36
        }
      ]
    },
    {
      "cell_type": "code",
      "source": [
        "months = np.array(['', 'Jan', 'Feb', 'Mar', 'Apr', 'May', 'Jun', 'Jul', 'Aug', 'Sep', 'Oct', 'Nov', 'Dec'])\n",
        "for i in range(13):\n",
        "  loan_data_string[:,0] = np.where(loan_data_string[:,0] == months[i], str(i), loan_data_string[:,0])\n",
        "\n",
        "loan_data_string[:,0] = loan_data_string[:,0].astype(int)"
      ],
      "metadata": {
        "id": "vpPgqIY4-nSu"
      },
      "execution_count": 57,
      "outputs": []
    },
    {
      "cell_type": "code",
      "source": [
        "np.unique(loan_data_string[:,0])"
      ],
      "metadata": {
        "colab": {
          "base_uri": "https://localhost:8080/"
        },
        "id": "MCg9WiR1_OWG",
        "outputId": "528c1fe9-e03f-4cfa-e992-9629f4b7de0f"
      },
      "execution_count": 44,
      "outputs": [
        {
          "output_type": "execute_result",
          "data": {
            "text/plain": [
              "array(['0', '1', '10', '11', '12', '2', '3', '4', '5', '6', '7', '8', '9'], dtype='<U69')"
            ]
          },
          "metadata": {},
          "execution_count": 44
        }
      ]
    },
    {
      "cell_type": "markdown",
      "source": [
        "Loan Status"
      ],
      "metadata": {
        "id": "yfAA_7_O_2oH"
      }
    },
    {
      "cell_type": "code",
      "source": [
        "header_strings"
      ],
      "metadata": {
        "colab": {
          "base_uri": "https://localhost:8080/"
        },
        "id": "n0XAYdbe_56q",
        "outputId": "4402d50a-1997-46bb-fbbc-6a9469b1040f"
      },
      "execution_count": 45,
      "outputs": [
        {
          "output_type": "execute_result",
          "data": {
            "text/plain": [
              "array(['issue_date', 'loan_status', 'term', 'grade', 'sub_grade', 'verification_status', 'url',\n",
              "       'addr_state'], dtype='<U19')"
            ]
          },
          "metadata": {},
          "execution_count": 45
        }
      ]
    },
    {
      "cell_type": "code",
      "source": [
        "loan_data_string[:,1]"
      ],
      "metadata": {
        "colab": {
          "base_uri": "https://localhost:8080/"
        },
        "id": "78V54pGw_8vS",
        "outputId": "34c79cc8-2202-44f7-ff97-602cc710546b"
      },
      "execution_count": 46,
      "outputs": [
        {
          "output_type": "execute_result",
          "data": {
            "text/plain": [
              "array(['Current', 'Current', 'Current', ..., 'Current', 'Current', 'Current'], dtype='<U69')"
            ]
          },
          "metadata": {},
          "execution_count": 46
        }
      ]
    },
    {
      "cell_type": "code",
      "source": [
        "np.unique(loan_data_string[:,1])"
      ],
      "metadata": {
        "colab": {
          "base_uri": "https://localhost:8080/"
        },
        "id": "9T0yiHVd__l0",
        "outputId": "5ccb6202-1fdb-4683-c93b-2dbbd01c9c64"
      },
      "execution_count": 47,
      "outputs": [
        {
          "output_type": "execute_result",
          "data": {
            "text/plain": [
              "array(['', 'Charged Off', 'Current', 'Default', 'Fully Paid', 'In Grace Period', 'Issued',\n",
              "       'Late (16-30 days)', 'Late (31-120 days)'], dtype='<U69')"
            ]
          },
          "metadata": {},
          "execution_count": 47
        }
      ]
    },
    {
      "cell_type": "code",
      "source": [
        "np.unique(loan_data_string[:,1]).size"
      ],
      "metadata": {
        "colab": {
          "base_uri": "https://localhost:8080/"
        },
        "id": "ojp0nYO_AFoS",
        "outputId": "c66c1dba-a671-45a4-fd1e-6c1dc15917ce"
      },
      "execution_count": 48,
      "outputs": [
        {
          "output_type": "execute_result",
          "data": {
            "text/plain": [
              "9"
            ]
          },
          "metadata": {},
          "execution_count": 48
        }
      ]
    },
    {
      "cell_type": "markdown",
      "source": [
        "We can use np.where() to assign a different number to each one.\n",
        "We need to slpit all possible values into either gropup(\"good\" or \"bad\")"
      ],
      "metadata": {
        "id": "Z4iufKr_ANeI"
      }
    },
    {
      "cell_type": "code",
      "source": [
        "status_bad = np.array(['', 'Charged Off', 'Default', 'Late (31-120 days)'])"
      ],
      "metadata": {
        "id": "aYCweOWMBFhF"
      },
      "execution_count": 49,
      "outputs": []
    },
    {
      "cell_type": "code",
      "source": [
        "loan_data_string[:, 1] = np.where(np.isin(loan_data_string[:,1], status_bad), 0, 1)"
      ],
      "metadata": {
        "id": "8bePsbJ0BS_F"
      },
      "execution_count": 50,
      "outputs": []
    },
    {
      "cell_type": "code",
      "source": [
        "loan_data_string[:,1]"
      ],
      "metadata": {
        "colab": {
          "base_uri": "https://localhost:8080/"
        },
        "id": "jz9MClGkBZyo",
        "outputId": "8daf723d-9704-4490-9c83-f214f081595c"
      },
      "execution_count": 51,
      "outputs": [
        {
          "output_type": "execute_result",
          "data": {
            "text/plain": [
              "array(['1', '1', '1', ..., '1', '1', '1'], dtype='<U69')"
            ]
          },
          "metadata": {},
          "execution_count": 51
        }
      ]
    },
    {
      "cell_type": "markdown",
      "source": [
        "Term"
      ],
      "metadata": {
        "id": "fJX9p7EzBdeo"
      }
    },
    {
      "cell_type": "code",
      "source": [
        "header_strings"
      ],
      "metadata": {
        "colab": {
          "base_uri": "https://localhost:8080/"
        },
        "id": "G8J_A1LDBeaS",
        "outputId": "f096ebef-2357-4a97-a090-09a45711e7ba"
      },
      "execution_count": 52,
      "outputs": [
        {
          "output_type": "execute_result",
          "data": {
            "text/plain": [
              "array(['issue_date', 'loan_status', 'term', 'grade', 'sub_grade', 'verification_status', 'url',\n",
              "       'addr_state'], dtype='<U19')"
            ]
          },
          "metadata": {},
          "execution_count": 52
        }
      ]
    },
    {
      "cell_type": "code",
      "source": [
        "np.unique(loan_data_string[:,2])"
      ],
      "metadata": {
        "colab": {
          "base_uri": "https://localhost:8080/"
        },
        "id": "5fswkOMPBf8H",
        "outputId": "9aa747db-654e-4312-fa37-a4635e609b88"
      },
      "execution_count": 53,
      "outputs": [
        {
          "output_type": "execute_result",
          "data": {
            "text/plain": [
              "array(['', '36 months', '60 months'], dtype='<U69')"
            ]
          },
          "metadata": {},
          "execution_count": 53
        }
      ]
    },
    {
      "cell_type": "code",
      "source": [
        "loan_data_string[:,2] = np.chararray.strip(loan_data_string[:,2], \" months\")\n",
        "loan_data_string[:,2]"
      ],
      "metadata": {
        "colab": {
          "base_uri": "https://localhost:8080/"
        },
        "id": "EFZ9HVLjBk3t",
        "outputId": "0a9f7de5-af9b-4db4-d9ef-633481c54dc7"
      },
      "execution_count": 54,
      "outputs": [
        {
          "output_type": "stream",
          "name": "stderr",
          "text": [
            "/tmp/ipython-input-705060273.py:1: DeprecationWarning: `np.chararray` is deprecated and will be removed from the main namespace in the future. Use an array with a string or bytes dtype instead.\n",
            "  loan_data_string[:,2] = np.chararray.strip(loan_data_string[:,2], \" months\")\n"
          ]
        },
        {
          "output_type": "execute_result",
          "data": {
            "text/plain": [
              "array(['36', '36', '36', ..., '36', '36', '36'], dtype='<U69')"
            ]
          },
          "metadata": {},
          "execution_count": 54
        }
      ]
    },
    {
      "cell_type": "code",
      "source": [
        "header_strings[2] = \"term_months\""
      ],
      "metadata": {
        "id": "fgtV_MWwCCbA"
      },
      "execution_count": 55,
      "outputs": []
    },
    {
      "cell_type": "code",
      "source": [
        "header_strings"
      ],
      "metadata": {
        "colab": {
          "base_uri": "https://localhost:8080/"
        },
        "id": "e9WaCuUaCGAs",
        "outputId": "3da1785a-88a0-4022-8bf6-0ba6ed13df1a"
      },
      "execution_count": 56,
      "outputs": [
        {
          "output_type": "execute_result",
          "data": {
            "text/plain": [
              "array(['issue_date', 'loan_status', 'term_months', 'grade', 'sub_grade', 'verification_status',\n",
              "       'url', 'addr_state'], dtype='<U19')"
            ]
          },
          "metadata": {},
          "execution_count": 56
        }
      ]
    },
    {
      "cell_type": "code",
      "source": [
        "loan_data_string[:,2] = np.where(loan_data_string[:,2] == '', str(60), loan_data_string[:,2])\n",
        "loan_data_string[:,2]"
      ],
      "metadata": {
        "colab": {
          "base_uri": "https://localhost:8080/"
        },
        "id": "IkldBEcVCRJZ",
        "outputId": "a802aec9-2f83-46e5-e281-c8ec1110ba26"
      },
      "execution_count": 59,
      "outputs": [
        {
          "output_type": "execute_result",
          "data": {
            "text/plain": [
              "array(['36', '36', '36', ..., '36', '36', '36'], dtype='<U69')"
            ]
          },
          "metadata": {},
          "execution_count": 59
        }
      ]
    },
    {
      "cell_type": "code",
      "source": [
        "np.unique(loan_data_string[:,2])"
      ],
      "metadata": {
        "colab": {
          "base_uri": "https://localhost:8080/"
        },
        "id": "n55I1fnSCcsV",
        "outputId": "0a1b80cf-32e6-4810-86c5-d267b5c52e3e"
      },
      "execution_count": 60,
      "outputs": [
        {
          "output_type": "execute_result",
          "data": {
            "text/plain": [
              "array(['36', '60'], dtype='<U69')"
            ]
          },
          "metadata": {},
          "execution_count": 60
        }
      ]
    },
    {
      "cell_type": "markdown",
      "source": [
        "Grade and Subgrade"
      ],
      "metadata": {
        "id": "VySL22MECsxW"
      }
    },
    {
      "cell_type": "code",
      "source": [
        "header_strings"
      ],
      "metadata": {
        "colab": {
          "base_uri": "https://localhost:8080/"
        },
        "id": "2RALMRP0Cudo",
        "outputId": "c541745b-3281-458f-f3d4-eb841b4273f6"
      },
      "execution_count": 61,
      "outputs": [
        {
          "output_type": "execute_result",
          "data": {
            "text/plain": [
              "array(['issue_date', 'loan_status', 'term_months', 'grade', 'sub_grade', 'verification_status',\n",
              "       'url', 'addr_state'], dtype='<U19')"
            ]
          },
          "metadata": {},
          "execution_count": 61
        }
      ]
    },
    {
      "cell_type": "code",
      "source": [
        "np.unique(loan_data_string[:,3])"
      ],
      "metadata": {
        "colab": {
          "base_uri": "https://localhost:8080/"
        },
        "id": "_vmnGBnxCwZD",
        "outputId": "b9160eec-a2ee-494f-96bd-f569a29fe43c"
      },
      "execution_count": 62,
      "outputs": [
        {
          "output_type": "execute_result",
          "data": {
            "text/plain": [
              "array(['', 'A', 'B', 'C', 'D', 'E', 'F', 'G'], dtype='<U69')"
            ]
          },
          "metadata": {},
          "execution_count": 62
        }
      ]
    },
    {
      "cell_type": "code",
      "source": [
        "loan_data_string[:,4]"
      ],
      "metadata": {
        "colab": {
          "base_uri": "https://localhost:8080/"
        },
        "id": "o4HWsuxpCz9g",
        "outputId": "140e01df-d849-47cd-d259-c173b1db128f"
      },
      "execution_count": 63,
      "outputs": [
        {
          "output_type": "execute_result",
          "data": {
            "text/plain": [
              "array(['C3', 'A5', 'B5', ..., 'A5', 'D2', 'A4'], dtype='<U69')"
            ]
          },
          "metadata": {},
          "execution_count": 63
        }
      ]
    },
    {
      "cell_type": "code",
      "source": [
        "np.unique(loan_data_string[:,4])"
      ],
      "metadata": {
        "colab": {
          "base_uri": "https://localhost:8080/"
        },
        "id": "5fFjf32MC3nc",
        "outputId": "8eb545a1-e70f-4624-c976-1ae3bd9bd3aa"
      },
      "execution_count": 64,
      "outputs": [
        {
          "output_type": "execute_result",
          "data": {
            "text/plain": [
              "array(['', 'A1', 'A2', 'A3', 'A4', 'A5', 'B1', 'B2', 'B3', 'B4', 'B5', 'C1', 'C2', 'C3', 'C4',\n",
              "       'C5', 'D1', 'D2', 'D3', 'D4', 'D5', 'E1', 'E2', 'E3', 'E4', 'E5', 'F1', 'F2', 'F3', 'F4',\n",
              "       'F5', 'G1', 'G2', 'G3', 'G4', 'G5'], dtype='<U69')"
            ]
          },
          "metadata": {},
          "execution_count": 64
        }
      ]
    },
    {
      "cell_type": "markdown",
      "source": [
        "Filling Sub Grade"
      ],
      "metadata": {
        "id": "oIhA5YijC_Ad"
      }
    },
    {
      "cell_type": "code",
      "source": [
        "for i in np.unique(loan_data_string[:,3])[1:]:\n",
        "  loan_data_string[:,4] = np.where((loan_data_string[:,4] == '') & (loan_data_string[:,3] == i), i + '5', loan_data_string[:,4])"
      ],
      "metadata": {
        "id": "vpfnQvHvDCE9"
      },
      "execution_count": 65,
      "outputs": []
    },
    {
      "cell_type": "code",
      "source": [
        "np.unique(loan_data_string[:, 4], return_counts=True)"
      ],
      "metadata": {
        "colab": {
          "base_uri": "https://localhost:8080/"
        },
        "id": "K7zAkEf_D1Zm",
        "outputId": "dfad0332-798e-40b5-fd12-17e7807f4a2e"
      },
      "execution_count": 66,
      "outputs": [
        {
          "output_type": "execute_result",
          "data": {
            "text/plain": [
              "(array(['', 'A1', 'A2', 'A3', 'A4', 'A5', 'B1', 'B2', 'B3', 'B4', 'B5', 'C1', 'C2', 'C3', 'C4',\n",
              "        'C5', 'D1', 'D2', 'D3', 'D4', 'D5', 'E1', 'E2', 'E3', 'E4', 'E5', 'F1', 'F2', 'F3', 'F4',\n",
              "        'F5', 'G1', 'G2', 'G3', 'G4', 'G5'], dtype='<U69'),\n",
              " array([  9, 285, 278, 239, 323, 592, 509, 517, 530, 553, 633, 629, 567, 586, 564, 577, 391, 267,\n",
              "        250, 255, 288, 235, 162, 171, 139, 160,  94,  52,  34,  43,  24,  19,  10,   3,   7,   5]))"
            ]
          },
          "metadata": {},
          "execution_count": 66
        }
      ]
    },
    {
      "cell_type": "markdown",
      "source": [
        "//'' = 9 which is less about 0.5% so for missing elements we use a new grading system H1"
      ],
      "metadata": {
        "id": "YOd_WHLZEAS_"
      }
    },
    {
      "cell_type": "code",
      "source": [
        "loan_data_string[:,4] = np.where((loan_data_string[:,4] == '') , 'H1', loan_data_string[:,4])"
      ],
      "metadata": {
        "id": "LwAmUmwWEMhn"
      },
      "execution_count": 67,
      "outputs": []
    },
    {
      "cell_type": "code",
      "source": [
        "np.unique(loan_data_string[:,4])"
      ],
      "metadata": {
        "colab": {
          "base_uri": "https://localhost:8080/"
        },
        "id": "5sUTlwF1EZ1P",
        "outputId": "33c495f9-cfec-4fd4-ab29-29fc235d32a7"
      },
      "execution_count": 68,
      "outputs": [
        {
          "output_type": "execute_result",
          "data": {
            "text/plain": [
              "array(['A1', 'A2', 'A3', 'A4', 'A5', 'B1', 'B2', 'B3', 'B4', 'B5', 'C1', 'C2', 'C3', 'C4', 'C5',\n",
              "       'D1', 'D2', 'D3', 'D4', 'D5', 'E1', 'E2', 'E3', 'E4', 'E5', 'F1', 'F2', 'F3', 'F4', 'F5',\n",
              "       'G1', 'G2', 'G3', 'G4', 'G5', 'H1'], dtype='<U69')"
            ]
          },
          "metadata": {},
          "execution_count": 68
        }
      ]
    },
    {
      "cell_type": "markdown",
      "source": [
        "Remove grade since details of grade are in subgrade"
      ],
      "metadata": {
        "id": "c1u-BgyvEfBK"
      }
    },
    {
      "cell_type": "code",
      "source": [
        "loan_data_string = np.delete(loan_data_string, 3, axis=1)"
      ],
      "metadata": {
        "id": "r3BgSBAnEeLK"
      },
      "execution_count": 70,
      "outputs": []
    },
    {
      "cell_type": "code",
      "source": [
        "loan_data_string[:,3]"
      ],
      "metadata": {
        "colab": {
          "base_uri": "https://localhost:8080/"
        },
        "id": "Kd98_jP0EsTF",
        "outputId": "c08e8ea6-aec6-4a56-bcc9-e859e5d9b0d5"
      },
      "execution_count": 71,
      "outputs": [
        {
          "output_type": "execute_result",
          "data": {
            "text/plain": [
              "array(['C3', 'A5', 'B5', ..., 'A5', 'D2', 'A4'], dtype='<U69')"
            ]
          },
          "metadata": {},
          "execution_count": 71
        }
      ]
    },
    {
      "cell_type": "code",
      "source": [
        "header_strings = np.delete(header_strings,3)"
      ],
      "metadata": {
        "id": "IN7hUC1hEuG-"
      },
      "execution_count": 72,
      "outputs": []
    },
    {
      "cell_type": "code",
      "source": [
        "header_strings[3]"
      ],
      "metadata": {
        "colab": {
          "base_uri": "https://localhost:8080/",
          "height": 34
        },
        "id": "OxNw6DHeEyA8",
        "outputId": "ad8b0e06-de76-4a31-acc5-53dbd8e3de7d"
      },
      "execution_count": 73,
      "outputs": [
        {
          "output_type": "execute_result",
          "data": {
            "text/plain": [
              "np.str_('sub_grade')"
            ],
            "application/vnd.google.colaboratory.intrinsic+json": {
              "type": "string"
            }
          },
          "metadata": {},
          "execution_count": 73
        }
      ]
    },
    {
      "cell_type": "markdown",
      "source": [
        "Converting Subgrade"
      ],
      "metadata": {
        "id": "TURElnaZE1I7"
      }
    },
    {
      "cell_type": "code",
      "source": [
        "np.unique(loan_data_string[:,3])"
      ],
      "metadata": {
        "colab": {
          "base_uri": "https://localhost:8080/"
        },
        "id": "bSq4_Jv6E3SK",
        "outputId": "845023d7-78a9-4a60-aebd-c07918970e69"
      },
      "execution_count": 74,
      "outputs": [
        {
          "output_type": "execute_result",
          "data": {
            "text/plain": [
              "array(['A1', 'A2', 'A3', 'A4', 'A5', 'B1', 'B2', 'B3', 'B4', 'B5', 'C1', 'C2', 'C3', 'C4', 'C5',\n",
              "       'D1', 'D2', 'D3', 'D4', 'D5', 'E1', 'E2', 'E3', 'E4', 'E5', 'F1', 'F2', 'F3', 'F4', 'F5',\n",
              "       'G1', 'G2', 'G3', 'G4', 'G5', 'H1'], dtype='<U69')"
            ]
          },
          "metadata": {},
          "execution_count": 74
        }
      ]
    },
    {
      "cell_type": "code",
      "source": [
        "keys = list(np.unique(loan_data_string[:,3]))\n",
        "values = list(range(1, np.unique(loan_data_string[:,3]).shape[0] + 1))\n",
        "dict_sub_grade = dict(zip(keys, values))"
      ],
      "metadata": {
        "id": "1aKGw4eNE8Zx"
      },
      "execution_count": 75,
      "outputs": []
    },
    {
      "cell_type": "code",
      "source": [
        "dict_sub_grade"
      ],
      "metadata": {
        "colab": {
          "base_uri": "https://localhost:8080/"
        },
        "id": "PovV_fHyFCuG",
        "outputId": "f598030a-af49-43b0-f602-d595452c15d3"
      },
      "execution_count": 76,
      "outputs": [
        {
          "output_type": "execute_result",
          "data": {
            "text/plain": [
              "{np.str_('A1'): 1,\n",
              " np.str_('A2'): 2,\n",
              " np.str_('A3'): 3,\n",
              " np.str_('A4'): 4,\n",
              " np.str_('A5'): 5,\n",
              " np.str_('B1'): 6,\n",
              " np.str_('B2'): 7,\n",
              " np.str_('B3'): 8,\n",
              " np.str_('B4'): 9,\n",
              " np.str_('B5'): 10,\n",
              " np.str_('C1'): 11,\n",
              " np.str_('C2'): 12,\n",
              " np.str_('C3'): 13,\n",
              " np.str_('C4'): 14,\n",
              " np.str_('C5'): 15,\n",
              " np.str_('D1'): 16,\n",
              " np.str_('D2'): 17,\n",
              " np.str_('D3'): 18,\n",
              " np.str_('D4'): 19,\n",
              " np.str_('D5'): 20,\n",
              " np.str_('E1'): 21,\n",
              " np.str_('E2'): 22,\n",
              " np.str_('E3'): 23,\n",
              " np.str_('E4'): 24,\n",
              " np.str_('E5'): 25,\n",
              " np.str_('F1'): 26,\n",
              " np.str_('F2'): 27,\n",
              " np.str_('F3'): 28,\n",
              " np.str_('F4'): 29,\n",
              " np.str_('F5'): 30,\n",
              " np.str_('G1'): 31,\n",
              " np.str_('G2'): 32,\n",
              " np.str_('G3'): 33,\n",
              " np.str_('G4'): 34,\n",
              " np.str_('G5'): 35,\n",
              " np.str_('H1'): 36}"
            ]
          },
          "metadata": {},
          "execution_count": 76
        }
      ]
    },
    {
      "cell_type": "code",
      "source": [
        "for i in np.unique(loan_data_string[:,3]):\n",
        "  loan_data_string[:,3] = np.where(loan_data_string[:,3] == i, str(dict_sub_grade[i]), loan_data_string[:,3])"
      ],
      "metadata": {
        "id": "jg77X50cFG2x"
      },
      "execution_count": 79,
      "outputs": []
    },
    {
      "cell_type": "code",
      "source": [
        "np.unique(loan_data_string[:,3])"
      ],
      "metadata": {
        "colab": {
          "base_uri": "https://localhost:8080/"
        },
        "id": "LhrN66JiFdUz",
        "outputId": "dc543150-4114-4575-8415-687db2e6e90a"
      },
      "execution_count": 80,
      "outputs": [
        {
          "output_type": "execute_result",
          "data": {
            "text/plain": [
              "array(['1', '10', '11', '12', '13', '14', '15', '16', '17', '18', '19', '2', '20', '21', '22',\n",
              "       '23', '24', '25', '26', '27', '28', '29', '3', '30', '31', '32', '33', '34', '35', '36',\n",
              "       '4', '5', '6', '7', '8', '9'], dtype='<U69')"
            ]
          },
          "metadata": {},
          "execution_count": 80
        }
      ]
    },
    {
      "cell_type": "markdown",
      "source": [
        "Verification Status"
      ],
      "metadata": {
        "id": "fDu5Wm8JFe0G"
      }
    },
    {
      "cell_type": "code",
      "source": [
        "header_strings"
      ],
      "metadata": {
        "colab": {
          "base_uri": "https://localhost:8080/"
        },
        "id": "GvMQuqvTFgsc",
        "outputId": "419a45e0-a35e-418a-9f91-5b1ba37d7b6b"
      },
      "execution_count": 81,
      "outputs": [
        {
          "output_type": "execute_result",
          "data": {
            "text/plain": [
              "array(['issue_date', 'loan_status', 'term_months', 'sub_grade', 'verification_status', 'url',\n",
              "       'addr_state'], dtype='<U19')"
            ]
          },
          "metadata": {},
          "execution_count": 81
        }
      ]
    },
    {
      "cell_type": "code",
      "source": [
        "np.unique(loan_data_string[:,4])"
      ],
      "metadata": {
        "colab": {
          "base_uri": "https://localhost:8080/"
        },
        "id": "WqD-pmnxFiMG",
        "outputId": "8878eb11-7437-4c4c-f135-277be42a37f3"
      },
      "execution_count": 82,
      "outputs": [
        {
          "output_type": "execute_result",
          "data": {
            "text/plain": [
              "array(['', 'Not Verified', 'Source Verified', 'Verified'], dtype='<U69')"
            ]
          },
          "metadata": {},
          "execution_count": 82
        }
      ]
    },
    {
      "cell_type": "markdown",
      "source": [
        "Not verified and '' = 0 because theya re bad"
      ],
      "metadata": {
        "id": "_28wJLgQFpim"
      }
    },
    {
      "cell_type": "code",
      "source": [
        "loan_data_string[:,4] = np.where((loan_data_string[:,4] == '') | (loan_data_string[:,4] == 'Not Verified'), 0, 1)"
      ],
      "metadata": {
        "id": "Ft3omoZzFo9O"
      },
      "execution_count": 84,
      "outputs": []
    },
    {
      "cell_type": "code",
      "source": [
        "np.unique(loan_data_string[:,4])"
      ],
      "metadata": {
        "colab": {
          "base_uri": "https://localhost:8080/"
        },
        "id": "LuLT0arPF2a6",
        "outputId": "9e958be5-c6f1-4d25-f203-93c0fb69cda4"
      },
      "execution_count": 85,
      "outputs": [
        {
          "output_type": "execute_result",
          "data": {
            "text/plain": [
              "array(['0', '1'], dtype='<U69')"
            ]
          },
          "metadata": {},
          "execution_count": 85
        }
      ]
    },
    {
      "cell_type": "markdown",
      "source": [
        "URL"
      ],
      "metadata": {
        "id": "372_SxyFF3X0"
      }
    },
    {
      "cell_type": "code",
      "source": [
        "loan_data_string[:,5]"
      ],
      "metadata": {
        "colab": {
          "base_uri": "https://localhost:8080/"
        },
        "id": "0UGmWTReF4Mn",
        "outputId": "774ae580-d369-413e-fd21-702918e005fc"
      },
      "execution_count": 86,
      "outputs": [
        {
          "output_type": "execute_result",
          "data": {
            "text/plain": [
              "array(['https://www.lendingclub.com/browse/loanDetail.action?loan_id=48010226',\n",
              "       'https://www.lendingclub.com/browse/loanDetail.action?loan_id=57693261',\n",
              "       'https://www.lendingclub.com/browse/loanDetail.action?loan_id=59432726', ...,\n",
              "       'https://www.lendingclub.com/browse/loanDetail.action?loan_id=50415990',\n",
              "       'https://www.lendingclub.com/browse/loanDetail.action?loan_id=46154151',\n",
              "       'https://www.lendingclub.com/browse/loanDetail.action?loan_id=66055249'], dtype='<U69')"
            ]
          },
          "metadata": {},
          "execution_count": 86
        }
      ]
    },
    {
      "cell_type": "code",
      "source": [
        "np.chararray.strip(loan_data_string[:,5], \"https://www.lendingclub.com/browse/loanDetail.action?loan_id=\")"
      ],
      "metadata": {
        "colab": {
          "base_uri": "https://localhost:8080/"
        },
        "id": "G9rK8Q4MF6Un",
        "outputId": "d05002e1-9a47-4924-9267-09220f4e506f"
      },
      "execution_count": 87,
      "outputs": [
        {
          "output_type": "stream",
          "name": "stderr",
          "text": [
            "/tmp/ipython-input-2953293532.py:1: DeprecationWarning: `np.chararray` is deprecated and will be removed from the main namespace in the future. Use an array with a string or bytes dtype instead.\n",
            "  np.chararray.strip(loan_data_string[:,5], \"https://www.lendingclub.com/browse/loanDetail.action?loan_id=\")\n"
          ]
        },
        {
          "output_type": "execute_result",
          "data": {
            "text/plain": [
              "array(['48010226', '57693261', '59432726', ..., '50415990', '46154151', '66055249'], dtype='<U69')"
            ]
          },
          "metadata": {},
          "execution_count": 87
        }
      ]
    },
    {
      "cell_type": "code",
      "source": [
        "loan_data_string[:,5] = np.chararray.strip(loan_data_string[:,5], \"https://www.lendingclub.com/browse/loanDetail.action?loan_id=\")"
      ],
      "metadata": {
        "colab": {
          "base_uri": "https://localhost:8080/"
        },
        "id": "346P7ftBF_O0",
        "outputId": "2090769e-c911-47a7-a852-f04d02a79d37"
      },
      "execution_count": 88,
      "outputs": [
        {
          "output_type": "stream",
          "name": "stderr",
          "text": [
            "/tmp/ipython-input-4252045116.py:1: DeprecationWarning: `np.chararray` is deprecated and will be removed from the main namespace in the future. Use an array with a string or bytes dtype instead.\n",
            "  loan_data_string[:,5] = np.chararray.strip(loan_data_string[:,5], \"https://www.lendingclub.com/browse/loanDetail.action?loan_id=\")\n"
          ]
        }
      ]
    },
    {
      "cell_type": "code",
      "source": [
        "headers"
      ],
      "metadata": {
        "colab": {
          "base_uri": "https://localhost:8080/"
        },
        "id": "wLpJRl0EGIH6",
        "outputId": "7a18b8e8-51e6-470c-bf39-d4a0c5b29870"
      },
      "execution_count": 89,
      "outputs": [
        {
          "output_type": "execute_result",
          "data": {
            "text/plain": [
              "array(['id', 'issue_d', 'loan_amnt', 'loan_status', 'funded_amnt', 'term', 'int_rate',\n",
              "       'installment', 'grade', 'sub_grade', 'verification_status', 'url', 'addr_state',\n",
              "       'total_pymnt'], dtype='<U19')"
            ]
          },
          "metadata": {},
          "execution_count": 89
        }
      ]
    },
    {
      "cell_type": "code",
      "source": [
        "loan_data_numeric[:,0].astype(dtype=np.int32)"
      ],
      "metadata": {
        "colab": {
          "base_uri": "https://localhost:8080/"
        },
        "id": "XE_-OObCGKuB",
        "outputId": "58f25890-49ba-4588-a231-5e7ae1adfb4c"
      },
      "execution_count": 90,
      "outputs": [
        {
          "output_type": "execute_result",
          "data": {
            "text/plain": [
              "array([48010226, 57693261, 59432726, ..., 50415990, 46154151, 66055249], dtype=int32)"
            ]
          },
          "metadata": {},
          "execution_count": 90
        }
      ]
    },
    {
      "cell_type": "code",
      "source": [
        "loan_data_string[:,5].astype(dtype=np.int32)"
      ],
      "metadata": {
        "colab": {
          "base_uri": "https://localhost:8080/"
        },
        "id": "D09SZAIxGPi8",
        "outputId": "ffbd7775-4aa4-40d2-eab2-a907ffecb87c"
      },
      "execution_count": 91,
      "outputs": [
        {
          "output_type": "execute_result",
          "data": {
            "text/plain": [
              "array([48010226, 57693261, 59432726, ..., 50415990, 46154151, 66055249], dtype=int32)"
            ]
          },
          "metadata": {},
          "execution_count": 91
        }
      ]
    },
    {
      "cell_type": "markdown",
      "source": [
        "both url and installment are same so remove url"
      ],
      "metadata": {
        "id": "10laRscMGVuN"
      }
    },
    {
      "cell_type": "code",
      "source": [
        "np.array_equal(loan_data_string[:,5].astype(dtype=np.int32), loan_data_numeric[:,0].astype(dtype=np.int32))"
      ],
      "metadata": {
        "colab": {
          "base_uri": "https://localhost:8080/"
        },
        "id": "Xpy8QE3FGVK_",
        "outputId": "e83e6247-3068-4db7-e56f-034397810953"
      },
      "execution_count": 92,
      "outputs": [
        {
          "output_type": "execute_result",
          "data": {
            "text/plain": [
              "True"
            ]
          },
          "metadata": {},
          "execution_count": 92
        }
      ]
    },
    {
      "cell_type": "code",
      "source": [
        "loan_data_string = np.delete(loan_data_string, 5, axis=1)\n",
        "header_strings = np.delete(header_strings, 5)"
      ],
      "metadata": {
        "id": "lRh4cHNhGo9b"
      },
      "execution_count": 93,
      "outputs": []
    },
    {
      "cell_type": "code",
      "source": [
        "loan_data_string[:,5]"
      ],
      "metadata": {
        "colab": {
          "base_uri": "https://localhost:8080/"
        },
        "id": "xmke_DHJGt4i",
        "outputId": "229d85f1-f726-4f3b-dcde-a400518743e2"
      },
      "execution_count": 94,
      "outputs": [
        {
          "output_type": "execute_result",
          "data": {
            "text/plain": [
              "array(['CA', 'NY', 'PA', ..., 'CA', 'OH', 'IL'], dtype='<U69')"
            ]
          },
          "metadata": {},
          "execution_count": 94
        }
      ]
    },
    {
      "cell_type": "code",
      "source": [
        "header_strings"
      ],
      "metadata": {
        "colab": {
          "base_uri": "https://localhost:8080/"
        },
        "id": "RYMhZHVLGwFO",
        "outputId": "82aca5cd-b753-4a7d-f8f9-6a654485724b"
      },
      "execution_count": 95,
      "outputs": [
        {
          "output_type": "execute_result",
          "data": {
            "text/plain": [
              "array(['issue_date', 'loan_status', 'term_months', 'sub_grade', 'verification_status',\n",
              "       'addr_state'], dtype='<U19')"
            ]
          },
          "metadata": {},
          "execution_count": 95
        }
      ]
    },
    {
      "cell_type": "code",
      "source": [
        "loan_data_numeric[:,0]"
      ],
      "metadata": {
        "colab": {
          "base_uri": "https://localhost:8080/"
        },
        "id": "cirNHoH9GySH",
        "outputId": "e4f62984-5d08-4052-aff8-bab24ccb9ba9"
      },
      "execution_count": 96,
      "outputs": [
        {
          "output_type": "execute_result",
          "data": {
            "text/plain": [
              "array([48010226., 57693261., 59432726., ..., 50415990., 46154151., 66055249.])"
            ]
          },
          "metadata": {},
          "execution_count": 96
        }
      ]
    },
    {
      "cell_type": "code",
      "source": [
        "header_numeric"
      ],
      "metadata": {
        "colab": {
          "base_uri": "https://localhost:8080/"
        },
        "id": "2czB8OIEG1HF",
        "outputId": "eae4f21f-0370-4111-adc5-5daaae710849"
      },
      "execution_count": 97,
      "outputs": [
        {
          "output_type": "execute_result",
          "data": {
            "text/plain": [
              "array(['id', 'loan_amnt', 'funded_amnt', 'int_rate', 'installment', 'total_pymnt'], dtype='<U19')"
            ]
          },
          "metadata": {},
          "execution_count": 97
        }
      ]
    },
    {
      "cell_type": "markdown",
      "source": [
        "State Address"
      ],
      "metadata": {
        "id": "StEnm5W4G9s0"
      }
    },
    {
      "cell_type": "code",
      "source": [
        "header_strings"
      ],
      "metadata": {
        "colab": {
          "base_uri": "https://localhost:8080/"
        },
        "id": "czEuvxEPHBTI",
        "outputId": "9698c1a8-cfa9-4115-b469-6efe2fed7f99"
      },
      "execution_count": 98,
      "outputs": [
        {
          "output_type": "execute_result",
          "data": {
            "text/plain": [
              "array(['issue_date', 'loan_status', 'term_months', 'sub_grade', 'verification_status',\n",
              "       'addr_state'], dtype='<U19')"
            ]
          },
          "metadata": {},
          "execution_count": 98
        }
      ]
    },
    {
      "cell_type": "code",
      "source": [
        "header_strings[5] = \"state_address\""
      ],
      "metadata": {
        "id": "YJba64l4HC_S"
      },
      "execution_count": 99,
      "outputs": []
    },
    {
      "cell_type": "code",
      "source": [
        "np.unique(loan_data_string[:,5])"
      ],
      "metadata": {
        "colab": {
          "base_uri": "https://localhost:8080/"
        },
        "id": "NIuUN68bHF6k",
        "outputId": "cd46b9ad-99c0-4fcc-d8f8-b00e9421ca38"
      },
      "execution_count": 102,
      "outputs": [
        {
          "output_type": "execute_result",
          "data": {
            "text/plain": [
              "array(['', 'AK', 'AL', 'AR', 'AZ', 'CA', 'CO', 'CT', 'DC', 'DE', 'FL', 'GA', 'HI', 'IL', 'IN',\n",
              "       'KS', 'KY', 'LA', 'MA', 'MD', 'ME', 'MI', 'MN', 'MO', 'MS', 'MT', 'NC', 'ND', 'NE', 'NH',\n",
              "       'NJ', 'NM', 'NV', 'NY', 'OH', 'OK', 'OR', 'PA', 'RI', 'SC', 'SD', 'TN', 'TX', 'UT', 'VA',\n",
              "       'VT', 'WA', 'WI', 'WV', 'WY'], dtype='<U69')"
            ]
          },
          "metadata": {},
          "execution_count": 102
        }
      ]
    },
    {
      "cell_type": "code",
      "source": [
        "np.unique(loan_data_string[:,5]).size"
      ],
      "metadata": {
        "colab": {
          "base_uri": "https://localhost:8080/"
        },
        "id": "HFry14psHNqE",
        "outputId": "55affdc2-ecb7-456b-be53-6eb150a8ded4"
      },
      "execution_count": 103,
      "outputs": [
        {
          "output_type": "execute_result",
          "data": {
            "text/plain": [
              "50"
            ]
          },
          "metadata": {},
          "execution_count": 103
        }
      ]
    },
    {
      "cell_type": "code",
      "source": [
        "np.unique(loan_data_string[:,5], return_counts=True)"
      ],
      "metadata": {
        "colab": {
          "base_uri": "https://localhost:8080/"
        },
        "id": "_UAySfUWHSu8",
        "outputId": "1e9f0049-e406-4c44-e7dc-e04025199f19"
      },
      "execution_count": 104,
      "outputs": [
        {
          "output_type": "execute_result",
          "data": {
            "text/plain": [
              "(array(['', 'AK', 'AL', 'AR', 'AZ', 'CA', 'CO', 'CT', 'DC', 'DE', 'FL', 'GA', 'HI', 'IL', 'IN',\n",
              "        'KS', 'KY', 'LA', 'MA', 'MD', 'ME', 'MI', 'MN', 'MO', 'MS', 'MT', 'NC', 'ND', 'NE', 'NH',\n",
              "        'NJ', 'NM', 'NV', 'NY', 'OH', 'OK', 'OR', 'PA', 'RI', 'SC', 'SD', 'TN', 'TX', 'UT', 'VA',\n",
              "        'VT', 'WA', 'WI', 'WV', 'WY'], dtype='<U69'),\n",
              " array([ 500,   26,  119,   74,  220, 1336,  201,  143,   27,   27,  690,  321,   44,  389,  152,\n",
              "          84,   84,  116,  210,  222,   10,  267,  156,  160,   61,   28,  261,   16,   25,   58,\n",
              "         341,   57,  130,  777,  312,   83,  108,  320,   40,  107,   24,  143,  758,   74,  242,\n",
              "          17,  216,  148,   49,   27]))"
            ]
          },
          "metadata": {},
          "execution_count": 104
        }
      ]
    },
    {
      "cell_type": "code",
      "source": [
        "from os import stat\n",
        "state_name, state_counts = np.unique(loan_data_string[:,5], return_counts=True)\n",
        "state_count_sorted = np.argsort(-state_counts)\n",
        "state_name[state_count_sorted], state_counts[state_count_sorted]"
      ],
      "metadata": {
        "colab": {
          "base_uri": "https://localhost:8080/"
        },
        "id": "ZvFIOjWwHZMo",
        "outputId": "3d01f385-19e5-4444-d81f-4de804374899"
      },
      "execution_count": 105,
      "outputs": [
        {
          "output_type": "execute_result",
          "data": {
            "text/plain": [
              "(array(['CA', 'NY', 'TX', 'FL', '', 'IL', 'NJ', 'GA', 'PA', 'OH', 'MI', 'NC', 'VA', 'MD', 'AZ',\n",
              "        'WA', 'MA', 'CO', 'MO', 'MN', 'IN', 'WI', 'TN', 'CT', 'NV', 'AL', 'LA', 'OR', 'SC', 'KY',\n",
              "        'KS', 'OK', 'UT', 'AR', 'MS', 'NH', 'NM', 'WV', 'HI', 'RI', 'MT', 'DC', 'DE', 'WY', 'AK',\n",
              "        'NE', 'SD', 'VT', 'ND', 'ME'], dtype='<U69'),\n",
              " array([1336,  777,  758,  690,  500,  389,  341,  321,  320,  312,  267,  261,  242,  222,  220,\n",
              "         216,  210,  201,  160,  156,  152,  148,  143,  143,  130,  119,  116,  108,  107,   84,\n",
              "          84,   83,   74,   74,   61,   58,   57,   49,   44,   40,   28,   27,   27,   27,   26,\n",
              "          25,   24,   17,   16,   10]))"
            ]
          },
          "metadata": {},
          "execution_count": 105
        }
      ]
    },
    {
      "cell_type": "code",
      "source": [
        "loan_data_string[:,5] = np.where(loan_data_string[:,5] == '', str(0), loan_data_string[:,5])"
      ],
      "metadata": {
        "id": "i0KaOgYJH4ef"
      },
      "execution_count": 107,
      "outputs": []
    },
    {
      "cell_type": "code",
      "source": [
        "states_west = np.array(['WA', 'OR', 'CA', 'NV', 'ID', 'MT', 'WY', 'UT', 'CO', 'AZ', 'NM', \"HI\", \"AK\"])\n",
        "states_south = np.array(['TX', 'OK', 'AR', 'LA', 'MS', 'AL', 'TN', 'KY', 'FL', 'GA', 'SC', 'NC', 'VA', 'WW\", \"MD', 'DE', 'DC'])\n",
        "states_midwest= np.array(['ND', 'SD', 'NE', 'KS', 'MN', 'IA', 'MO', 'WI', 'IL', 'IN', 'MI', 'OH'])\n",
        "states_east = np.array(['PA', 'NY', 'NJ', 'CT', 'MA', 'VT', 'NH', 'MF', 'RI'])"
      ],
      "metadata": {
        "id": "gz_F1JWVIT13"
      },
      "execution_count": 108,
      "outputs": []
    },
    {
      "cell_type": "code",
      "source": [
        "loan_data_string[:,5] = np.where(np.isin(loan_data_string[:,5], states_west), '1', loan_data_string[:,5])\n",
        "loan_data_string[:,5] = np.where(np.isin(loan_data_string[:,5], states_south), '2', loan_data_string[:,5])\n",
        "loan_data_string[:,5] = np.where(np.isin(loan_data_string[:,5], states_midwest), '3', loan_data_string[:,5])\n",
        "loan_data_string[:,5] = np.where(np.isin(loan_data_string[:,5], states_east), '4', loan_data_string[:,5])\n",
        "loan_data_string[:,5] = np.where((loan_data_string[:,5] != '1') & (loan_data_string[:,5] != '2') & (loan_data_string[:,5] != '3') & (loan_data_string[:,5] != '4') & (loan_data_string[:,5] != '0'), '0', loan_data_string[:,5])"
      ],
      "metadata": {
        "id": "cB5lmRw-Iizx"
      },
      "execution_count": 116,
      "outputs": []
    },
    {
      "cell_type": "code",
      "source": [
        "np.unique(loan_data_string[:,5])"
      ],
      "metadata": {
        "colab": {
          "base_uri": "https://localhost:8080/"
        },
        "id": "SPUHkZ-JI88m",
        "outputId": "20309583-7346-4332-991f-ce68ebdd7745"
      },
      "execution_count": 117,
      "outputs": [
        {
          "output_type": "execute_result",
          "data": {
            "text/plain": [
              "array(['0', '1', '2', '3', '4'], dtype='<U69')"
            ]
          },
          "metadata": {},
          "execution_count": 117
        }
      ]
    },
    {
      "cell_type": "markdown",
      "source": [
        "Converting strings to numbers"
      ],
      "metadata": {
        "id": "dP94DuuYI_C4"
      }
    },
    {
      "cell_type": "code",
      "source": [
        "loan_data_string"
      ],
      "metadata": {
        "colab": {
          "base_uri": "https://localhost:8080/"
        },
        "id": "LI9bTQfmI-bw",
        "outputId": "a073e11a-7ce0-476c-c116-1c4b16f9fc6e"
      },
      "execution_count": 118,
      "outputs": [
        {
          "output_type": "execute_result",
          "data": {
            "text/plain": [
              "array([['5', '1', '36', '13', '1', '1'],\n",
              "       ['0', '1', '36', '5', '1', '4'],\n",
              "       ['9', '1', '36', '10', '1', '4'],\n",
              "       ...,\n",
              "       ['6', '1', '36', '5', '1', '1'],\n",
              "       ['4', '1', '36', '17', '1', '3'],\n",
              "       ['12', '1', '36', '4', '0', '3']], dtype='<U69')"
            ]
          },
          "metadata": {},
          "execution_count": 118
        }
      ]
    },
    {
      "cell_type": "code",
      "source": [
        "loan_data_string=loan_data_string.astype(np.int32)"
      ],
      "metadata": {
        "id": "nmamKhl4JC5W"
      },
      "execution_count": 126,
      "outputs": []
    },
    {
      "cell_type": "markdown",
      "source": [
        "Checkpoint1 : Strings"
      ],
      "metadata": {
        "id": "nLnMGf2IJbVa"
      }
    },
    {
      "cell_type": "code",
      "source": [
        "checkpoint_string_test = checkpoint(\"Cheskpoint-Strings\", header_strings, loan_data_string)"
      ],
      "metadata": {
        "id": "w7pTFWQnJeMe"
      },
      "execution_count": 127,
      "outputs": []
    },
    {
      "cell_type": "code",
      "source": [
        "checkpoint_string_test['header']"
      ],
      "metadata": {
        "colab": {
          "base_uri": "https://localhost:8080/"
        },
        "id": "j-UDMgwJJsb8",
        "outputId": "2731529d-b6ba-484d-8a46-56ce9c74ea4a"
      },
      "execution_count": 128,
      "outputs": [
        {
          "output_type": "execute_result",
          "data": {
            "text/plain": [
              "array(['issue_date', 'loan_status', 'term_months', 'sub_grade', 'verification_status',\n",
              "       'state_address'], dtype='<U19')"
            ]
          },
          "metadata": {},
          "execution_count": 128
        }
      ]
    },
    {
      "cell_type": "code",
      "source": [
        "checkpoint_string_test['data']"
      ],
      "metadata": {
        "colab": {
          "base_uri": "https://localhost:8080/"
        },
        "id": "NrPsA5KqJwdt",
        "outputId": "c316455f-8d47-4f7b-cd55-cfd2f9558470"
      },
      "execution_count": 129,
      "outputs": [
        {
          "output_type": "execute_result",
          "data": {
            "text/plain": [
              "array([[ 5,  1, 36, 13,  1,  1],\n",
              "       [ 0,  1, 36,  5,  1,  4],\n",
              "       [ 9,  1, 36, 10,  1,  4],\n",
              "       ...,\n",
              "       [ 6,  1, 36,  5,  1,  1],\n",
              "       [ 4,  1, 36, 17,  1,  3],\n",
              "       [12,  1, 36,  4,  0,  3]], dtype=int32)"
            ]
          },
          "metadata": {},
          "execution_count": 129
        }
      ]
    },
    {
      "cell_type": "code",
      "source": [
        "np.array_equal(checkpoint_string_test['data'], loan_data_string)"
      ],
      "metadata": {
        "colab": {
          "base_uri": "https://localhost:8080/"
        },
        "id": "VGWRrGzVJ8et",
        "outputId": "089e834d-7b52-4b27-98b0-bd3e965b1f05"
      },
      "execution_count": 130,
      "outputs": [
        {
          "output_type": "execute_result",
          "data": {
            "text/plain": [
              "True"
            ]
          },
          "metadata": {},
          "execution_count": 130
        }
      ]
    },
    {
      "cell_type": "markdown",
      "source": [
        "Manipulating Numeric Columns"
      ],
      "metadata": {
        "id": "0TMbJGIiKBg0"
      }
    },
    {
      "cell_type": "code",
      "source": [
        "header_numeric"
      ],
      "metadata": {
        "colab": {
          "base_uri": "https://localhost:8080/"
        },
        "id": "kvS2EcbKKESc",
        "outputId": "fd0d934d-9ac8-41a0-89ec-ab9d4d37e171"
      },
      "execution_count": 131,
      "outputs": [
        {
          "output_type": "execute_result",
          "data": {
            "text/plain": [
              "array(['id', 'loan_amnt', 'funded_amnt', 'int_rate', 'installment', 'total_pymnt'], dtype='<U19')"
            ]
          },
          "metadata": {},
          "execution_count": 131
        }
      ]
    },
    {
      "cell_type": "code",
      "source": [
        "loan_data_numeric"
      ],
      "metadata": {
        "colab": {
          "base_uri": "https://localhost:8080/"
        },
        "id": "wXqQmJ9DKJOj",
        "outputId": "b4932600-b560-46a9-a8f1-83bde513a87a"
      },
      "execution_count": 132,
      "outputs": [
        {
          "output_type": "execute_result",
          "data": {
            "text/plain": [
              "array([[48010226.  ,    35000.  ,    35000.  ,       13.33,     1184.86,     9452.96],\n",
              "       [57693261.  ,    30000.  ,    30000.  , 68616520.  ,      938.57,     4679.7 ],\n",
              "       [59432726.  ,    15000.  ,    15000.  , 68616520.  ,      494.86,     1969.83],\n",
              "       ...,\n",
              "       [50415990.  ,    10000.  ,    10000.  , 68616520.  , 68616520.  ,     2185.64],\n",
              "       [46154151.  , 68616520.  ,    10000.  ,       16.55,      354.3 ,     3199.4 ],\n",
              "       [66055249.  ,    10000.  ,    10000.  , 68616520.  ,      309.97,      301.9 ]])"
            ]
          },
          "metadata": {},
          "execution_count": 132
        }
      ]
    },
    {
      "cell_type": "code",
      "source": [
        "np.isnan(loan_data_numeric).sum()"
      ],
      "metadata": {
        "colab": {
          "base_uri": "https://localhost:8080/"
        },
        "id": "MtXuCLoHKKwS",
        "outputId": "2fc924d3-79ca-4749-ac10-77740cec5698"
      },
      "execution_count": 133,
      "outputs": [
        {
          "output_type": "execute_result",
          "data": {
            "text/plain": [
              "np.int64(0)"
            ]
          },
          "metadata": {},
          "execution_count": 133
        }
      ]
    },
    {
      "cell_type": "markdown",
      "source": [
        "Substitute Filling values becuase we filled with filler values so we make them worst values"
      ],
      "metadata": {
        "id": "48ZQBPq5KNG-"
      }
    },
    {
      "cell_type": "markdown",
      "source": [
        "ID"
      ],
      "metadata": {
        "id": "zpFzAMAFKXp-"
      }
    },
    {
      "cell_type": "code",
      "source": [
        "temp_fill"
      ],
      "metadata": {
        "colab": {
          "base_uri": "https://localhost:8080/"
        },
        "id": "Xb0-xdpjKYjD",
        "outputId": "5295ca63-9d5f-4bf4-a088-1556191d4eba"
      },
      "execution_count": 134,
      "outputs": [
        {
          "output_type": "execute_result",
          "data": {
            "text/plain": [
              "np.float64(68616520.0)"
            ]
          },
          "metadata": {},
          "execution_count": 134
        }
      ]
    },
    {
      "cell_type": "code",
      "source": [
        "np.isin(loan_data_numeric[:,0], temp_fill)"
      ],
      "metadata": {
        "colab": {
          "base_uri": "https://localhost:8080/"
        },
        "id": "sHr0rZb0KcJv",
        "outputId": "1466b153-942d-46ba-851c-0ed355cec7aa"
      },
      "execution_count": 135,
      "outputs": [
        {
          "output_type": "execute_result",
          "data": {
            "text/plain": [
              "array([False, False, False, ..., False, False, False])"
            ]
          },
          "metadata": {},
          "execution_count": 135
        }
      ]
    },
    {
      "cell_type": "code",
      "source": [
        "np.isin(loan_data_numeric[:,0], temp_fill).sum()\n",
        "# no filling values used if answer = 0"
      ],
      "metadata": {
        "colab": {
          "base_uri": "https://localhost:8080/"
        },
        "id": "vDWLraXkKffl",
        "outputId": "bd307d2b-69bf-4afb-c9e7-e60022411330"
      },
      "execution_count": 136,
      "outputs": [
        {
          "output_type": "execute_result",
          "data": {
            "text/plain": [
              "np.int64(0)"
            ]
          },
          "metadata": {},
          "execution_count": 136
        }
      ]
    },
    {
      "cell_type": "markdown",
      "source": [
        "TemporaryStats"
      ],
      "metadata": {
        "id": "_3aBLKW4KsGR"
      }
    },
    {
      "cell_type": "code",
      "source": [
        "temp_stats[:, column_numeric]\n",
        "# temp min, mean, max is shown one belonging to each row"
      ],
      "metadata": {
        "colab": {
          "base_uri": "https://localhost:8080/"
        },
        "id": "oYiXOz8IKufy",
        "outputId": "3a24e4f2-f3fc-4abc-eef1-1e722f684345"
      },
      "execution_count": 138,
      "outputs": [
        {
          "output_type": "execute_result",
          "data": {
            "text/plain": [
              "array([[  373332.  ,     1000.  ,     1000.  ,        6.  ,       31.42,        0.  ],\n",
              "       [54015809.19,    15273.46,    15311.04,       16.62,      440.92,     3143.85],\n",
              "       [68616519.  ,    35000.  ,    35000.  ,       28.99,     1372.97,    41913.62]])"
            ]
          },
          "metadata": {},
          "execution_count": 138
        }
      ]
    },
    {
      "cell_type": "markdown",
      "source": [
        "funded value we are keeping min value"
      ],
      "metadata": {
        "id": "HisJAUjoLG_z"
      }
    },
    {
      "cell_type": "code",
      "source": [
        "loan_data_numeric[:,2]"
      ],
      "metadata": {
        "colab": {
          "base_uri": "https://localhost:8080/"
        },
        "id": "tMnxIIgFLLvg",
        "outputId": "0e3fcf6d-b518-435f-f921-bb107c0d6938"
      },
      "execution_count": 139,
      "outputs": [
        {
          "output_type": "execute_result",
          "data": {
            "text/plain": [
              "array([35000., 30000., 15000., ..., 10000., 10000., 10000.])"
            ]
          },
          "metadata": {},
          "execution_count": 139
        }
      ]
    },
    {
      "cell_type": "code",
      "source": [
        "loan_data_numeric[:,2] = np.where(loan_data_numeric[:,2] == temp_fill, temp_stats[0, column_numeric[2]], loan_data_numeric[:,2])"
      ],
      "metadata": {
        "id": "8t0IOmu2LN22"
      },
      "execution_count": 140,
      "outputs": []
    },
    {
      "cell_type": "code",
      "source": [
        "loan_data_numeric[:,2]"
      ],
      "metadata": {
        "colab": {
          "base_uri": "https://localhost:8080/"
        },
        "id": "lW5J4LFcLTP-",
        "outputId": "791ed871-a93a-408b-aeba-3eda525515ba"
      },
      "execution_count": 141,
      "outputs": [
        {
          "output_type": "execute_result",
          "data": {
            "text/plain": [
              "array([35000., 30000., 15000., ..., 10000., 10000., 10000.])"
            ]
          },
          "metadata": {},
          "execution_count": 141
        }
      ]
    },
    {
      "cell_type": "code",
      "source": [
        "temp_stats[0, column_numeric[3]]"
      ],
      "metadata": {
        "colab": {
          "base_uri": "https://localhost:8080/"
        },
        "id": "HzHCmh23LihO",
        "outputId": "388cda66-cffd-4d55-c3f7-180cf96d9a43"
      },
      "execution_count": 142,
      "outputs": [
        {
          "output_type": "execute_result",
          "data": {
            "text/plain": [
              "np.float64(6.0)"
            ]
          },
          "metadata": {},
          "execution_count": 142
        }
      ]
    },
    {
      "cell_type": "markdown",
      "source": [
        "Loan Amount, Interest Rate, Total Payment, Installment we are keeping max value"
      ],
      "metadata": {
        "id": "dIuAo5RoLley"
      }
    },
    {
      "cell_type": "code",
      "source": [
        "header_numeric"
      ],
      "metadata": {
        "colab": {
          "base_uri": "https://localhost:8080/"
        },
        "id": "nGpAWCt2LqfD",
        "outputId": "83313f97-f60f-41e6-d62a-f6c6ab759c46"
      },
      "execution_count": 143,
      "outputs": [
        {
          "output_type": "execute_result",
          "data": {
            "text/plain": [
              "array(['id', 'loan_amnt', 'funded_amnt', 'int_rate', 'installment', 'total_pymnt'], dtype='<U19')"
            ]
          },
          "metadata": {},
          "execution_count": 143
        }
      ]
    },
    {
      "cell_type": "code",
      "source": [
        "for i in [1,3,4,5]:\n",
        "  loan_data_numeric[:,i] = np.where(loan_data_numeric[:,i] == temp_fill, temp_stats[2, column_numeric[i]], loan_data_numeric[:,i])"
      ],
      "metadata": {
        "id": "CpW6uhtCLsSO"
      },
      "execution_count": 144,
      "outputs": []
    },
    {
      "cell_type": "code",
      "source": [
        "loan_data_numeric"
      ],
      "metadata": {
        "colab": {
          "base_uri": "https://localhost:8080/"
        },
        "id": "w2wFrpwuL1rE",
        "outputId": "063818b8-14f5-48db-f9b5-4f5ece650a80"
      },
      "execution_count": 145,
      "outputs": [
        {
          "output_type": "execute_result",
          "data": {
            "text/plain": [
              "array([[48010226.  ,    35000.  ,    35000.  ,       13.33,     1184.86,     9452.96],\n",
              "       [57693261.  ,    30000.  ,    30000.  ,       28.99,      938.57,     4679.7 ],\n",
              "       [59432726.  ,    15000.  ,    15000.  ,       28.99,      494.86,     1969.83],\n",
              "       ...,\n",
              "       [50415990.  ,    10000.  ,    10000.  ,       28.99,     1372.97,     2185.64],\n",
              "       [46154151.  ,    35000.  ,    10000.  ,       16.55,      354.3 ,     3199.4 ],\n",
              "       [66055249.  ,    10000.  ,    10000.  ,       28.99,      309.97,      301.9 ]])"
            ]
          },
          "metadata": {},
          "execution_count": 145
        }
      ]
    },
    {
      "cell_type": "markdown",
      "source": [
        "Currency change"
      ],
      "metadata": {
        "id": "LO60WreIL87i"
      }
    },
    {
      "cell_type": "code",
      "source": [
        "# find the exchange rate avaliabe in the  cv of eur_usd.csv"
      ],
      "metadata": {
        "id": "wcS4-TLJL_5h"
      },
      "execution_count": null,
      "outputs": []
    },
    {
      "cell_type": "code",
      "source": [
        "EUR_USD = np.genfromtxt(\"/content/EUR-USD.csv\", delimiter = ',', autostrip=True,dtype = str)\n",
        "EUR_USD"
      ],
      "metadata": {
        "colab": {
          "base_uri": "https://localhost:8080/"
        },
        "id": "DL1t6_04MQCx",
        "outputId": "1446a7a8-b2d7-4ec9-8e9d-eb78e554b4e2"
      },
      "execution_count": 147,
      "outputs": [
        {
          "output_type": "execute_result",
          "data": {
            "text/plain": [
              "array([['Open', 'High', 'Low', 'Close', 'Volume'],\n",
              "       ['1.2098628282546997', '1.2098628282546997', '1.11055588722229', '1.1287955045700073', '0'],\n",
              "       ['1.1287955045700073', '1.1484194993972778', '1.117680549621582', '1.1205360889434814',\n",
              "        '0'],\n",
              "       ['1.119795799255371', '1.1240400075912476', '1.0460032224655151', '1.0830246210098267',\n",
              "        '0'],\n",
              "       ['1.0741022825241089', '1.1247594356536865', '1.0521597862243652', '1.1114321947097778',\n",
              "        '0'],\n",
              "       ['1.1215037107467651', '1.145304799079895', '1.0821995735168457', '1.0960345268249512',\n",
              "        '0'],\n",
              "       ['1.095902442932129', '1.1428401470184326', '1.0888904333114624', '1.122296690940857', '0'],\n",
              "       ['1.1134989261627197', '1.1219995021820068', '1.081270456314087', '1.0939244031906128',\n",
              "        '0'],\n",
              "       ['1.0969001054763794', '1.1705996990203857', '1.0850305557250977', '1.1340054273605347',\n",
              "        '0'],\n",
              "       ['1.1225990056991577', '1.1460003852844238', '1.1089695692062378', '1.1255937814712524',\n",
              "        '0'],\n",
              "       ['1.1171561479568481', '1.1494200229644775', '1.0910003185272217', '1.100897192955017',\n",
              "        '0'],\n",
              "       ['1.1024993658065796', '1.1060001850128174', '1.056400179862976', '1.0583018064498901',\n",
              "        '0'],\n",
              "       ['1.0572947263717651', '1.107000470161438', '1.0541995763778687', '1.093398094177246', '0']],\n",
              "      dtype='<U18')"
            ]
          },
          "metadata": {},
          "execution_count": 147
        }
      ]
    },
    {
      "cell_type": "code",
      "source": [
        "# create a column to store exchange rates"
      ],
      "metadata": {
        "id": "kfNshY6UM1nO"
      },
      "execution_count": null,
      "outputs": []
    },
    {
      "cell_type": "code",
      "source": [
        "loan_data_string[:,0]"
      ],
      "metadata": {
        "colab": {
          "base_uri": "https://localhost:8080/"
        },
        "id": "KEOhkGqmM5Nl",
        "outputId": "499611ff-9d25-4d88-d401-17e926fc3596"
      },
      "execution_count": 148,
      "outputs": [
        {
          "output_type": "execute_result",
          "data": {
            "text/plain": [
              "array([ 5,  0,  9, ...,  6,  4, 12], dtype=int32)"
            ]
          },
          "metadata": {},
          "execution_count": 148
        }
      ]
    },
    {
      "cell_type": "code",
      "source": [
        "exchange_rates = loan_data_string[:,0].astype(float)\n",
        "for i in range(1,13):\n",
        "  exchange_rates = np.where(exchange_rates == i, EUR_USD[i][1], exchange_rates)\n",
        "\n",
        "exchange_rates = np.where(exchange_rates == 0, np.mean(EUR_USD[1:,1].astype(float)), exchange_rates)"
      ],
      "metadata": {
        "id": "599Z-BwoM8cR"
      },
      "execution_count": 152,
      "outputs": []
    },
    {
      "cell_type": "code",
      "source": [
        "exchange_rates.shape"
      ],
      "metadata": {
        "colab": {
          "base_uri": "https://localhost:8080/"
        },
        "id": "rk7VU82TNaK5",
        "outputId": "48223525-441a-4f09-adb5-97e95dc03fc3"
      },
      "execution_count": 153,
      "outputs": [
        {
          "output_type": "execute_result",
          "data": {
            "text/plain": [
              "(10000,)"
            ]
          },
          "metadata": {},
          "execution_count": 153
        }
      ]
    },
    {
      "cell_type": "code",
      "source": [
        "loan_data_numeric.shape"
      ],
      "metadata": {
        "colab": {
          "base_uri": "https://localhost:8080/"
        },
        "id": "1_kHppK4NcXa",
        "outputId": "2517b218-b341-47b0-c8d3-859e7c1ca6da"
      },
      "execution_count": 154,
      "outputs": [
        {
          "output_type": "execute_result",
          "data": {
            "text/plain": [
              "(10000, 6)"
            ]
          },
          "metadata": {},
          "execution_count": 154
        }
      ]
    },
    {
      "cell_type": "code",
      "source": [
        "exchange_rates = np.reshape(exchange_rates, (10000,1))"
      ],
      "metadata": {
        "id": "ZuyfrLr-Ne9s"
      },
      "execution_count": 155,
      "outputs": []
    },
    {
      "cell_type": "code",
      "source": [
        "loan_data_numeric = np.hstack((loan_data_numeric, exchange_rates))"
      ],
      "metadata": {
        "id": "5unUx0HhNhF3"
      },
      "execution_count": 156,
      "outputs": []
    },
    {
      "cell_type": "code",
      "source": [
        "header_numeric = np.concatenate((header_numeric, np.array(['exchange_rates'])))\n",
        "header_numeric"
      ],
      "metadata": {
        "colab": {
          "base_uri": "https://localhost:8080/"
        },
        "id": "NS9N_YHoNkzn",
        "outputId": "6862fca8-b41b-4b1d-81c5-aa8578fdc515"
      },
      "execution_count": 157,
      "outputs": [
        {
          "output_type": "execute_result",
          "data": {
            "text/plain": [
              "array(['id', 'loan_amnt', 'funded_amnt', 'int_rate', 'installment', 'total_pymnt',\n",
              "       'exchange_rates'], dtype='<U19')"
            ]
          },
          "metadata": {},
          "execution_count": 157
        }
      ]
    },
    {
      "cell_type": "markdown",
      "source": [
        "From USD to EUR"
      ],
      "metadata": {
        "id": "Usj_rEA-NvmO"
      }
    },
    {
      "cell_type": "code",
      "source": [
        "header_numeric"
      ],
      "metadata": {
        "colab": {
          "base_uri": "https://localhost:8080/"
        },
        "id": "VCdU79HsNxKx",
        "outputId": "fa49ef82-605a-4205-f047-0280e42d132b"
      },
      "execution_count": 158,
      "outputs": [
        {
          "output_type": "execute_result",
          "data": {
            "text/plain": [
              "array(['id', 'loan_amnt', 'funded_amnt', 'int_rate', 'installment', 'total_pymnt',\n",
              "       'exchange_rates'], dtype='<U19')"
            ]
          },
          "metadata": {},
          "execution_count": 158
        }
      ]
    },
    {
      "cell_type": "code",
      "source": [
        "columns_dollars = np.array([1,2,4,5])"
      ],
      "metadata": {
        "id": "8RIKkXU3N3Fk"
      },
      "execution_count": 159,
      "outputs": []
    },
    {
      "cell_type": "code",
      "source": [
        "loan_data_numeric[:, [columns_dollars]]"
      ],
      "metadata": {
        "colab": {
          "base_uri": "https://localhost:8080/"
        },
        "id": "dY6cermCN6-U",
        "outputId": "900f5ad8-72a5-41e7-c00c-e0a77ce32e32"
      },
      "execution_count": 160,
      "outputs": [
        {
          "output_type": "execute_result",
          "data": {
            "text/plain": [
              "array([[['35000.0', '35000.0', '1184.86', '9452.96']],\n",
              "\n",
              "       [['30000.0', '30000.0', '938.57', '4679.7']],\n",
              "\n",
              "       [['15000.0', '15000.0', '494.86', '1969.83']],\n",
              "\n",
              "       ...,\n",
              "\n",
              "       [['10000.0', '10000.0', '1372.97', '2185.64']],\n",
              "\n",
              "       [['35000.0', '10000.0', '354.3', '3199.4']],\n",
              "\n",
              "       [['10000.0', '10000.0', '309.97', '301.9']]], dtype='<U32')"
            ]
          },
          "metadata": {},
          "execution_count": 160
        }
      ]
    },
    {
      "cell_type": "code",
      "source": [
        "loan_data_numeric = loan_data_numeric.astype(float)\n",
        "for i in columns_dollars:\n",
        "  loan_data_numeric = np.hstack((loan_data_numeric, np.reshape(loan_data_numeric[:,i] / loan_data_numeric[:,6], (10000,1))))"
      ],
      "metadata": {
        "colab": {
          "base_uri": "https://localhost:8080/"
        },
        "id": "sgqzzthnOAty",
        "outputId": "4c403d1e-939b-4a2c-a1e8-284d33f7a0cf"
      },
      "execution_count": 162,
      "outputs": [
        {
          "output_type": "stream",
          "name": "stderr",
          "text": [
            "/tmp/ipython-input-3898716547.py:3: RuntimeWarning: divide by zero encountered in divide\n",
            "  loan_data_numeric = np.hstack((loan_data_numeric, np.reshape(loan_data_numeric[:,i] / loan_data_numeric[:,6], (10000,1))))\n",
            "/tmp/ipython-input-3898716547.py:3: RuntimeWarning: invalid value encountered in divide\n",
            "  loan_data_numeric = np.hstack((loan_data_numeric, np.reshape(loan_data_numeric[:,i] / loan_data_numeric[:,6], (10000,1))))\n"
          ]
        }
      ]
    },
    {
      "cell_type": "code",
      "source": [
        "loan_data_numeric.shape"
      ],
      "metadata": {
        "colab": {
          "base_uri": "https://localhost:8080/"
        },
        "id": "j72MGwtzOW2z",
        "outputId": "0caff273-e47f-492e-a68f-f865f8a136a9"
      },
      "execution_count": 164,
      "outputs": [
        {
          "output_type": "execute_result",
          "data": {
            "text/plain": [
              "(10000, 11)"
            ]
          },
          "metadata": {},
          "execution_count": 164
        }
      ]
    },
    {
      "cell_type": "code",
      "source": [
        "loan_data_numeric"
      ],
      "metadata": {
        "colab": {
          "base_uri": "https://localhost:8080/"
        },
        "id": "ekr72ANFObKN",
        "outputId": "74a72036-7398-468c-f1c8-8f99f86ce3c2"
      },
      "execution_count": 165,
      "outputs": [
        {
          "output_type": "execute_result",
          "data": {
            "text/plain": [
              "array([[48010226.  ,    35000.  ,    35000.  , ...,     7000.  ,      236.97,     1890.59],\n",
              "       [57693261.  ,    30000.  ,    30000.  , ...,         inf,         inf,         inf],\n",
              "       [59432726.  ,    15000.  ,    15000.  , ...,     1666.67,       54.98,      218.87],\n",
              "       ...,\n",
              "       [50415990.  ,    10000.  ,    10000.  , ...,     1666.67,      228.83,      364.27],\n",
              "       [46154151.  ,    35000.  ,    10000.  , ...,     2500.  ,       88.58,      799.85],\n",
              "       [66055249.  ,    10000.  ,    10000.  , ...,      833.33,       25.83,       25.16]])"
            ]
          },
          "metadata": {},
          "execution_count": 165
        }
      ]
    },
    {
      "cell_type": "markdown",
      "source": [
        "Expand header"
      ],
      "metadata": {
        "id": "CvE3E0zKOdLp"
      }
    },
    {
      "cell_type": "code",
      "source": [
        "header_additional = np.array([column_name + '_EUR' for column_name in header_numeric[columns_dollars]])"
      ],
      "metadata": {
        "id": "hh8Ifv_wOeiU"
      },
      "execution_count": 166,
      "outputs": []
    },
    {
      "cell_type": "code",
      "source": [
        "header_additional"
      ],
      "metadata": {
        "colab": {
          "base_uri": "https://localhost:8080/"
        },
        "id": "6EOPAAk5OnHi",
        "outputId": "e82ec1f2-55ef-4403-ef4b-b19a03b6f6df"
      },
      "execution_count": 167,
      "outputs": [
        {
          "output_type": "execute_result",
          "data": {
            "text/plain": [
              "array(['loan_amnt_EUR', 'funded_amnt_EUR', 'installment_EUR', 'total_pymnt_EUR'], dtype='<U15')"
            ]
          },
          "metadata": {},
          "execution_count": 167
        }
      ]
    },
    {
      "cell_type": "code",
      "source": [
        "header_numeric = np.concatenate((header_numeric, header_additional))"
      ],
      "metadata": {
        "id": "DK-y6lQjOolf"
      },
      "execution_count": 169,
      "outputs": []
    },
    {
      "cell_type": "code",
      "source": [
        "header_numeric"
      ],
      "metadata": {
        "colab": {
          "base_uri": "https://localhost:8080/"
        },
        "id": "yb8VfdD4Ory2",
        "outputId": "332e167a-4246-4aef-fb59-f0c8e79eb42b"
      },
      "execution_count": 170,
      "outputs": [
        {
          "output_type": "execute_result",
          "data": {
            "text/plain": [
              "array(['id', 'loan_amnt', 'funded_amnt', 'int_rate', 'installment', 'total_pymnt',\n",
              "       'exchange_rates', 'loan_amnt_EUR', 'funded_amnt_EUR', 'installment_EUR', 'total_pymnt_EUR'],\n",
              "      dtype='<U19')"
            ]
          },
          "metadata": {},
          "execution_count": 170
        }
      ]
    },
    {
      "cell_type": "code",
      "source": [
        "header_numeric[columns_dollars] = np.array([column_name + '_USD' for column_name in header_numeric[columns_dollars]])"
      ],
      "metadata": {
        "id": "e1_xlWU1Otkc"
      },
      "execution_count": 171,
      "outputs": []
    },
    {
      "cell_type": "code",
      "source": [
        "header_numeric"
      ],
      "metadata": {
        "colab": {
          "base_uri": "https://localhost:8080/"
        },
        "id": "DRJHQCfMOyeJ",
        "outputId": "b1790228-97b9-46f1-edb9-618846276a4c"
      },
      "execution_count": 172,
      "outputs": [
        {
          "output_type": "execute_result",
          "data": {
            "text/plain": [
              "array(['id', 'loan_amnt_USD', 'funded_amnt_USD', 'int_rate', 'installment_USD', 'total_pymnt_USD',\n",
              "       'exchange_rates', 'loan_amnt_EUR', 'funded_amnt_EUR', 'installment_EUR', 'total_pymnt_EUR'],\n",
              "      dtype='<U19')"
            ]
          },
          "metadata": {},
          "execution_count": 172
        }
      ]
    },
    {
      "cell_type": "code",
      "source": [
        "column_order = [0,1,7,2,8,3,4,9,5,10,6]"
      ],
      "metadata": {
        "id": "C_p7SIGqO0zw"
      },
      "execution_count": 173,
      "outputs": []
    },
    {
      "cell_type": "code",
      "source": [
        "header_numeric[column_order]"
      ],
      "metadata": {
        "colab": {
          "base_uri": "https://localhost:8080/"
        },
        "id": "TBpdwjTUO8GL",
        "outputId": "147481f4-668f-4f0d-da92-15e4e693d30d"
      },
      "execution_count": 174,
      "outputs": [
        {
          "output_type": "execute_result",
          "data": {
            "text/plain": [
              "array(['id', 'loan_amnt_USD', 'loan_amnt_EUR', 'funded_amnt_USD', 'funded_amnt_EUR', 'int_rate',\n",
              "       'installment_USD', 'installment_EUR', 'total_pymnt_USD', 'total_pymnt_EUR',\n",
              "       'exchange_rates'], dtype='<U19')"
            ]
          },
          "metadata": {},
          "execution_count": 174
        }
      ]
    },
    {
      "cell_type": "code",
      "source": [
        "header_numeric = header_numeric[column_order]"
      ],
      "metadata": {
        "id": "DnSEgxfbPBgj"
      },
      "execution_count": 175,
      "outputs": []
    },
    {
      "cell_type": "code",
      "source": [
        "loan_data_numeric"
      ],
      "metadata": {
        "colab": {
          "base_uri": "https://localhost:8080/"
        },
        "id": "KxfOYi9QPDx4",
        "outputId": "2214c1c6-d9a1-4297-cce4-57f84aebea5f"
      },
      "execution_count": 176,
      "outputs": [
        {
          "output_type": "execute_result",
          "data": {
            "text/plain": [
              "array([[48010226.  ,    35000.  ,    35000.  , ...,     7000.  ,      236.97,     1890.59],\n",
              "       [57693261.  ,    30000.  ,    30000.  , ...,         inf,         inf,         inf],\n",
              "       [59432726.  ,    15000.  ,    15000.  , ...,     1666.67,       54.98,      218.87],\n",
              "       ...,\n",
              "       [50415990.  ,    10000.  ,    10000.  , ...,     1666.67,      228.83,      364.27],\n",
              "       [46154151.  ,    35000.  ,    10000.  , ...,     2500.  ,       88.58,      799.85],\n",
              "       [66055249.  ,    10000.  ,    10000.  , ...,      833.33,       25.83,       25.16]])"
            ]
          },
          "metadata": {},
          "execution_count": 176
        }
      ]
    },
    {
      "cell_type": "code",
      "source": [
        "loan_data_numeric = loan_data_numeric[:,column_order]"
      ],
      "metadata": {
        "id": "Y8ZDkPp9PF75"
      },
      "execution_count": 177,
      "outputs": []
    },
    {
      "cell_type": "markdown",
      "source": [
        "Interest rate"
      ],
      "metadata": {
        "id": "rqQuGhcFPLgR"
      }
    },
    {
      "cell_type": "code",
      "source": [
        "header_numeric"
      ],
      "metadata": {
        "colab": {
          "base_uri": "https://localhost:8080/"
        },
        "id": "ZviZbTcVPMix",
        "outputId": "0d39cede-d197-4e66-cfcd-901c40a0abd0"
      },
      "execution_count": 178,
      "outputs": [
        {
          "output_type": "execute_result",
          "data": {
            "text/plain": [
              "array(['id', 'loan_amnt_USD', 'loan_amnt_EUR', 'funded_amnt_USD', 'funded_amnt_EUR', 'int_rate',\n",
              "       'installment_USD', 'installment_EUR', 'total_pymnt_USD', 'total_pymnt_EUR',\n",
              "       'exchange_rates'], dtype='<U19')"
            ]
          },
          "metadata": {},
          "execution_count": 178
        }
      ]
    },
    {
      "cell_type": "code",
      "source": [
        "loan_data_numeric[:,5]\n",
        "# stored as percentage"
      ],
      "metadata": {
        "colab": {
          "base_uri": "https://localhost:8080/"
        },
        "id": "SukLSM6VPOF7",
        "outputId": "336fe382-320a-42b3-f2c1-881921247fb8"
      },
      "execution_count": 179,
      "outputs": [
        {
          "output_type": "execute_result",
          "data": {
            "text/plain": [
              "array([13.33, 28.99, 28.99, ..., 28.99, 16.55, 28.99])"
            ]
          },
          "metadata": {},
          "execution_count": 179
        }
      ]
    },
    {
      "cell_type": "code",
      "source": [
        "loan_data_numeric[:,5] = loan_data_numeric[:,5]/100\n",
        "# divide by 100"
      ],
      "metadata": {
        "id": "bmzO21s-PVRI"
      },
      "execution_count": 180,
      "outputs": []
    },
    {
      "cell_type": "code",
      "source": [
        "loan_data_numeric[:,5]"
      ],
      "metadata": {
        "colab": {
          "base_uri": "https://localhost:8080/"
        },
        "id": "g9-9OvVWPXNB",
        "outputId": "2cb831da-c940-4a66-c104-34c357b7eada"
      },
      "execution_count": 181,
      "outputs": [
        {
          "output_type": "execute_result",
          "data": {
            "text/plain": [
              "array([0.13, 0.29, 0.29, ..., 0.29, 0.17, 0.29])"
            ]
          },
          "metadata": {},
          "execution_count": 181
        }
      ]
    },
    {
      "cell_type": "markdown",
      "source": [
        "Checkpoint 2 Numeric"
      ],
      "metadata": {
        "id": "K24bmWMwPcNu"
      }
    },
    {
      "cell_type": "code",
      "source": [
        "checkpoint_numeric_test = checkpoint(\"Checkpoint-Numeric\", header_numeric, loan_data_numeric)"
      ],
      "metadata": {
        "id": "MIiHyRl-PfM8"
      },
      "execution_count": 182,
      "outputs": []
    },
    {
      "cell_type": "code",
      "source": [
        "checkpoint_numeric_test['header']"
      ],
      "metadata": {
        "colab": {
          "base_uri": "https://localhost:8080/"
        },
        "id": "a9MxSQdZPtiO",
        "outputId": "fa75cc73-93b2-4e53-c93a-4235ab572e9e"
      },
      "execution_count": 183,
      "outputs": [
        {
          "output_type": "execute_result",
          "data": {
            "text/plain": [
              "array(['id', 'loan_amnt_USD', 'loan_amnt_EUR', 'funded_amnt_USD', 'funded_amnt_EUR', 'int_rate',\n",
              "       'installment_USD', 'installment_EUR', 'total_pymnt_USD', 'total_pymnt_EUR',\n",
              "       'exchange_rates'], dtype='<U19')"
            ]
          },
          "metadata": {},
          "execution_count": 183
        }
      ]
    },
    {
      "cell_type": "code",
      "source": [
        "checkpoint_numeric_test['data']"
      ],
      "metadata": {
        "colab": {
          "base_uri": "https://localhost:8080/"
        },
        "id": "Ja27ltNjPyjn",
        "outputId": "8e906135-97af-4e93-fc96-233ab076b1ce"
      },
      "execution_count": 184,
      "outputs": [
        {
          "output_type": "execute_result",
          "data": {
            "text/plain": [
              "array([[48010226.  ,    35000.  ,     7000.  , ...,     9452.96,     1890.59,        5.  ],\n",
              "       [57693261.  ,    30000.  ,         inf, ...,     4679.7 ,         inf,        0.  ],\n",
              "       [59432726.  ,    15000.  ,     1666.67, ...,     1969.83,      218.87,        9.  ],\n",
              "       ...,\n",
              "       [50415990.  ,    10000.  ,     1666.67, ...,     2185.64,      364.27,        6.  ],\n",
              "       [46154151.  ,    35000.  ,     8750.  , ...,     3199.4 ,      799.85,        4.  ],\n",
              "       [66055249.  ,    10000.  ,      833.33, ...,      301.9 ,       25.16,       12.  ]])"
            ]
          },
          "metadata": {},
          "execution_count": 184
        }
      ]
    },
    {
      "cell_type": "markdown",
      "source": [
        "Creating a complete dataset"
      ],
      "metadata": {
        "id": "dBQ77LesQArQ"
      }
    },
    {
      "cell_type": "code",
      "source": [
        "# using ladder approach\n",
        "checkpoint_string_test['data'].shape"
      ],
      "metadata": {
        "colab": {
          "base_uri": "https://localhost:8080/"
        },
        "id": "-Er1FW1LQEBr",
        "outputId": "a00f6c12-89fa-47d9-b345-1927ceabe446"
      },
      "execution_count": 186,
      "outputs": [
        {
          "output_type": "execute_result",
          "data": {
            "text/plain": [
              "(10000, 6)"
            ]
          },
          "metadata": {},
          "execution_count": 186
        }
      ]
    },
    {
      "cell_type": "code",
      "source": [
        "checkpoint_numeric_test['data'].shape"
      ],
      "metadata": {
        "colab": {
          "base_uri": "https://localhost:8080/"
        },
        "id": "NU9S5cAFQNkj",
        "outputId": "5bdec687-36b0-43a8-f4f2-3d35756f5a37"
      },
      "execution_count": 187,
      "outputs": [
        {
          "output_type": "execute_result",
          "data": {
            "text/plain": [
              "(10000, 11)"
            ]
          },
          "metadata": {},
          "execution_count": 187
        }
      ]
    },
    {
      "cell_type": "code",
      "source": [
        "loan_data = np.hstack((checkpoint_numeric_test['data'], checkpoint_string_test['data']))"
      ],
      "metadata": {
        "id": "ZAl3ZehjQOs5"
      },
      "execution_count": 199,
      "outputs": []
    },
    {
      "cell_type": "code",
      "source": [
        "loan_data"
      ],
      "metadata": {
        "colab": {
          "base_uri": "https://localhost:8080/"
        },
        "id": "5J4OWtnSQaC7",
        "outputId": "d3d9cdd4-ec97-4272-9c70-274d435faf20"
      },
      "execution_count": 200,
      "outputs": [
        {
          "output_type": "execute_result",
          "data": {
            "text/plain": [
              "array([[48010226.  ,    35000.  ,     7000.  , ...,       13.  ,        1.  ,        1.  ],\n",
              "       [57693261.  ,    30000.  ,         inf, ...,        5.  ,        1.  ,        4.  ],\n",
              "       [59432726.  ,    15000.  ,     1666.67, ...,       10.  ,        1.  ,        4.  ],\n",
              "       ...,\n",
              "       [50415990.  ,    10000.  ,     1666.67, ...,        5.  ,        1.  ,        1.  ],\n",
              "       [46154151.  ,    35000.  ,     8750.  , ...,       17.  ,        1.  ,        3.  ],\n",
              "       [66055249.  ,    10000.  ,      833.33, ...,        4.  ,        0.  ,        3.  ]])"
            ]
          },
          "metadata": {},
          "execution_count": 200
        }
      ]
    },
    {
      "cell_type": "code",
      "source": [
        "np.isnan(loan_data).sum()"
      ],
      "metadata": {
        "colab": {
          "base_uri": "https://localhost:8080/"
        },
        "id": "VgZjRgXxRAvp",
        "outputId": "a488dc42-06b6-4854-80e8-d934e5083370"
      },
      "execution_count": 201,
      "outputs": [
        {
          "output_type": "execute_result",
          "data": {
            "text/plain": [
              "np.int64(26)"
            ]
          },
          "metadata": {},
          "execution_count": 201
        }
      ]
    },
    {
      "cell_type": "code",
      "source": [
        "header = np.concatenate((checkpoint_numeric_test['header'], checkpoint_string_test['header']))"
      ],
      "metadata": {
        "id": "q3_nIMZ8RD9r"
      },
      "execution_count": 202,
      "outputs": []
    },
    {
      "cell_type": "markdown",
      "source": [
        "Sorting based on index"
      ],
      "metadata": {
        "id": "iJZWkzQoRK8_"
      }
    },
    {
      "cell_type": "code",
      "source": [
        "loan_data = loan_data[np.argsort(loan_data[:,0])]"
      ],
      "metadata": {
        "id": "WfQYTV3MRNIv"
      },
      "execution_count": 203,
      "outputs": []
    },
    {
      "cell_type": "code",
      "source": [
        "loan_data"
      ],
      "metadata": {
        "colab": {
          "base_uri": "https://localhost:8080/"
        },
        "id": "rkfQUiC3RjaW",
        "outputId": "71e778d9-d81d-4577-ae98-967a1ea48755"
      },
      "execution_count": 204,
      "outputs": [
        {
          "output_type": "execute_result",
          "data": {
            "text/plain": [
              "array([[  373332.  ,     9950.  ,      995.  , ...,       21.  ,        0.  ,        1.  ],\n",
              "       [  575239.  ,    12000.  ,     1200.  , ...,       25.  ,        1.  ,        0.  ],\n",
              "       [  707689.  ,    10000.  ,     5000.  , ...,       13.  ,        1.  ,        0.  ],\n",
              "       ...,\n",
              "       [68614880.  ,     5600.  ,      466.67, ...,        8.  ,        1.  ,        1.  ],\n",
              "       [68615915.  ,     4000.  ,      333.33, ...,       10.  ,        1.  ,        2.  ],\n",
              "       [68616519.  ,    21600.  ,     1800.  , ...,        3.  ,        0.  ,        2.  ]])"
            ]
          },
          "metadata": {},
          "execution_count": 204
        }
      ]
    },
    {
      "cell_type": "code",
      "source": [
        "np.argsort(loan_data[:,0])"
      ],
      "metadata": {
        "colab": {
          "base_uri": "https://localhost:8080/"
        },
        "id": "FJWfwfugRlcW",
        "outputId": "9753d8b3-9fa8-481d-d3a8-bd71a72efd0d"
      },
      "execution_count": 205,
      "outputs": [
        {
          "output_type": "execute_result",
          "data": {
            "text/plain": [
              "array([   0,    1,    2, ..., 9997, 9998, 9999])"
            ]
          },
          "metadata": {},
          "execution_count": 205
        }
      ]
    },
    {
      "cell_type": "code",
      "source": [
        "# Storing the entire dataset"
      ],
      "metadata": {
        "id": "HW2QqOhDRpFH"
      },
      "execution_count": null,
      "outputs": []
    },
    {
      "cell_type": "code",
      "source": [
        "loan_data = np.vstack((header, loan_data))"
      ],
      "metadata": {
        "id": "dIdIDZCKRr5s"
      },
      "execution_count": 206,
      "outputs": []
    },
    {
      "cell_type": "code",
      "source": [
        "np.savetxt(\"loan-data-processed.csv\", loan_data, fmt='%s', delimiter=',')"
      ],
      "metadata": {
        "id": "oVshr14BRvZN"
      },
      "execution_count": 207,
      "outputs": []
    }
  ]
}